{
 "cells": [
  {
   "cell_type": "code",
   "execution_count": 164,
   "id": "60ddea15-3157-4074-9e24-1fc6e14e40bd",
   "metadata": {},
   "outputs": [],
   "source": [
    "import pandas as pd\n",
    "import plotly.express as px\n",
    "import plotly.graph_objs as go\n",
    "import datetime as datetime"
   ]
  },
  {
   "cell_type": "code",
   "execution_count": 165,
   "id": "dea14c7b-8379-495a-bc36-b522baab557e",
   "metadata": {},
   "outputs": [
    {
     "data": {
      "text/html": [
       "<div>\n",
       "<style scoped>\n",
       "    .dataframe tbody tr th:only-of-type {\n",
       "        vertical-align: middle;\n",
       "    }\n",
       "\n",
       "    .dataframe tbody tr th {\n",
       "        vertical-align: top;\n",
       "    }\n",
       "\n",
       "    .dataframe thead th {\n",
       "        text-align: right;\n",
       "    }\n",
       "</style>\n",
       "<table border=\"1\" class=\"dataframe\">\n",
       "  <thead>\n",
       "    <tr style=\"text-align: right;\">\n",
       "      <th></th>\n",
       "      <th>Index</th>\n",
       "      <th>distict_name</th>\n",
       "      <th>member</th>\n",
       "      <th>party</th>\n",
       "      <th>prior_experience</th>\n",
       "      <th>education</th>\n",
       "      <th>assumed_office</th>\n",
       "      <th>residence</th>\n",
       "      <th>born</th>\n",
       "    </tr>\n",
       "  </thead>\n",
       "  <tbody>\n",
       "    <tr>\n",
       "      <th>0</th>\n",
       "      <td>1</td>\n",
       "      <td>Alabama 1</td>\n",
       "      <td>Jerry Carl</td>\n",
       "      <td>Republican</td>\n",
       "      <td>Mobile County Commission</td>\n",
       "      <td>Florida Gateway College</td>\n",
       "      <td>2021</td>\n",
       "      <td>Mobile</td>\n",
       "      <td>June 17, 1958 (age 64)</td>\n",
       "    </tr>\n",
       "    <tr>\n",
       "      <th>1</th>\n",
       "      <td>2</td>\n",
       "      <td>Alabama 2</td>\n",
       "      <td>Barry Moore</td>\n",
       "      <td>Republican</td>\n",
       "      <td>Alabama House of Representatives</td>\n",
       "      <td>Enterprise State Community College (AS)\\nAubur...</td>\n",
       "      <td>2021</td>\n",
       "      <td>Enterprise</td>\n",
       "      <td>September 26, 1966 (age 55)</td>\n",
       "    </tr>\n",
       "    <tr>\n",
       "      <th>2</th>\n",
       "      <td>3</td>\n",
       "      <td>Alabama 3</td>\n",
       "      <td>Mike Rogers</td>\n",
       "      <td>Republican</td>\n",
       "      <td>Alabama House of Representatives</td>\n",
       "      <td>Jacksonville State University (BA, MPA)\\nBirmi...</td>\n",
       "      <td>2003</td>\n",
       "      <td>Anniston</td>\n",
       "      <td>July 16, 1958 (age 64)</td>\n",
       "    </tr>\n",
       "    <tr>\n",
       "      <th>3</th>\n",
       "      <td>4</td>\n",
       "      <td>Alabama 4</td>\n",
       "      <td>Robert Aderholt</td>\n",
       "      <td>Republican</td>\n",
       "      <td>Haleyville Municipal Judge</td>\n",
       "      <td>University of North Alabama\\nBirmingham–Southe...</td>\n",
       "      <td>1997</td>\n",
       "      <td>Haleyville</td>\n",
       "      <td>July 22, 1965 (age 57)</td>\n",
       "    </tr>\n",
       "    <tr>\n",
       "      <th>4</th>\n",
       "      <td>5</td>\n",
       "      <td>Alabama 5</td>\n",
       "      <td>Mo Brooks</td>\n",
       "      <td>Republican</td>\n",
       "      <td>Madison County Commissioner</td>\n",
       "      <td>Duke University (BA)\\nUniversity of Alabama (JD)</td>\n",
       "      <td>2011</td>\n",
       "      <td>Huntsville</td>\n",
       "      <td>April 29, 1954 (age 68)</td>\n",
       "    </tr>\n",
       "  </tbody>\n",
       "</table>\n",
       "</div>"
      ],
      "text/plain": [
       "   Index  distict_name          member       party   \\\n",
       "0       1    Alabama 1       Jerry Carl  Republican   \n",
       "1       2    Alabama 2      Barry Moore  Republican   \n",
       "2       3    Alabama 3      Mike Rogers  Republican   \n",
       "3       4    Alabama 4  Robert Aderholt  Republican   \n",
       "4       5    Alabama 5        Mo Brooks  Republican   \n",
       "\n",
       "                  prior_experience   \\\n",
       "0         Mobile County Commission    \n",
       "1  Alabama House of Representatives   \n",
       "2  Alabama House of Representatives   \n",
       "3       Haleyville Municipal Judge    \n",
       "4      Madison County Commissioner    \n",
       "\n",
       "                                          education  assumed_office   \\\n",
       "0                            Florida Gateway College            2021   \n",
       "1  Enterprise State Community College (AS)\\nAubur...            2021   \n",
       "2  Jacksonville State University (BA, MPA)\\nBirmi...            2003   \n",
       "3  University of North Alabama\\nBirmingham–Southe...            1997   \n",
       "4   Duke University (BA)\\nUniversity of Alabama (JD)            2011   \n",
       "\n",
       "   residence                         born   \n",
       "0      Mobile       June 17, 1958 (age 64)  \n",
       "1  Enterprise  September 26, 1966 (age 55)  \n",
       "2   Anniston        July 16, 1958 (age 64)  \n",
       "3  Haleyville       July 22, 1965 (age 57)  \n",
       "4  Huntsville      April 29, 1954 (age 68)  "
      ]
     },
     "execution_count": 165,
     "metadata": {},
     "output_type": "execute_result"
    }
   ],
   "source": [
    "df = pd.read_csv('sources/house-data.csv')\n",
    "df.head()"
   ]
  },
  {
   "cell_type": "code",
   "execution_count": 166,
   "id": "3a7a2d22-05c7-4ae8-85cb-27b688eef1f2",
   "metadata": {},
   "outputs": [],
   "source": [
    "#List of states\n",
    "states = [\"Alaska\", \"Alabama\", \"Arkansas\", \"Arizona\", \"California\", \"Colorado\", \"Connecticut\", \"Delaware\", \"Florida\", \"Georgia\", \"Hawaii\", \"Iowa\", \"Idaho\", \"Illinois\", \"Indiana\", \"Kansas\", \"Kentucky\", \"Louisiana\", \"Massachusetts\", \"Maryland\", \"Maine\", \"Michigan\", \"Minnesota\", \"Missouri\", \"Mississippi\", \"Montana\", \"North Carolina\", \"North Dakota\", \"Nebraska\", \"New Hampshire\", \"New Jersey\", \"New Mexico\", \"Nevada\", \"New York\", \"Ohio\", \"Oklahoma\", \"Oregon\", \"Pennsylvania\", \"Rhode Island\", \"South Carolina\", \"South Dakota\", \"Tennessee\", \"Texas\", \"Utah\", \"Virginia\", \"Vermont\", \"Washington\", \"Wisconsin\", \"West Virginia\", \"Wyoming\"]"
   ]
  },
  {
   "cell_type": "code",
   "execution_count": 167,
   "id": "8f7fa86d-f7ee-4cc1-a44c-19c0b1654ecf",
   "metadata": {},
   "outputs": [],
   "source": [
    "#States df\n",
    "states_df = pd.DataFrame(states, columns=['name'])"
   ]
  },
  {
   "cell_type": "code",
   "execution_count": 168,
   "id": "de9fd0d8-4ceb-4aa8-b5aa-b3ede3420df0",
   "metadata": {},
   "outputs": [
    {
     "data": {
      "text/html": [
       "<div>\n",
       "<style scoped>\n",
       "    .dataframe tbody tr th:only-of-type {\n",
       "        vertical-align: middle;\n",
       "    }\n",
       "\n",
       "    .dataframe tbody tr th {\n",
       "        vertical-align: top;\n",
       "    }\n",
       "\n",
       "    .dataframe thead th {\n",
       "        text-align: right;\n",
       "    }\n",
       "</style>\n",
       "<table border=\"1\" class=\"dataframe\">\n",
       "  <thead>\n",
       "    <tr style=\"text-align: right;\">\n",
       "      <th></th>\n",
       "      <th>DataType</th>\n",
       "    </tr>\n",
       "  </thead>\n",
       "  <tbody>\n",
       "    <tr>\n",
       "      <th>Index</th>\n",
       "      <td>int64</td>\n",
       "    </tr>\n",
       "    <tr>\n",
       "      <th>distict_name</th>\n",
       "      <td>object</td>\n",
       "    </tr>\n",
       "    <tr>\n",
       "      <th>member</th>\n",
       "      <td>object</td>\n",
       "    </tr>\n",
       "    <tr>\n",
       "      <th>party</th>\n",
       "      <td>object</td>\n",
       "    </tr>\n",
       "    <tr>\n",
       "      <th>prior_experience</th>\n",
       "      <td>object</td>\n",
       "    </tr>\n",
       "    <tr>\n",
       "      <th>education</th>\n",
       "      <td>object</td>\n",
       "    </tr>\n",
       "    <tr>\n",
       "      <th>assumed_office</th>\n",
       "      <td>object</td>\n",
       "    </tr>\n",
       "    <tr>\n",
       "      <th>residence</th>\n",
       "      <td>object</td>\n",
       "    </tr>\n",
       "    <tr>\n",
       "      <th>born</th>\n",
       "      <td>object</td>\n",
       "    </tr>\n",
       "  </tbody>\n",
       "</table>\n",
       "</div>"
      ],
      "text/plain": [
       "                  DataType\n",
       "Index                int64\n",
       "distict_name        object\n",
       "member              object\n",
       "party               object\n",
       "prior_experience    object\n",
       "education           object\n",
       "assumed_office      object\n",
       "residence           object\n",
       "born                object"
      ]
     },
     "execution_count": 168,
     "metadata": {},
     "output_type": "execute_result"
    }
   ],
   "source": [
    "#Check data types\n",
    "pd.DataFrame(df.dtypes, columns=[\"DataType\"])"
   ]
  },
  {
   "cell_type": "code",
   "execution_count": 169,
   "id": "1a5a5792-b124-404d-bcd5-74510c14532f",
   "metadata": {},
   "outputs": [
    {
     "data": {
      "text/plain": [
       "Index(['Index ', 'distict_name', 'member ', 'party ', 'prior_experience ',\n",
       "       'education ', 'assumed_office ', 'residence ', 'born '],\n",
       "      dtype='object')"
      ]
     },
     "execution_count": 169,
     "metadata": {},
     "output_type": "execute_result"
    }
   ],
   "source": [
    "#Check column names\n",
    "df.columns"
   ]
  },
  {
   "cell_type": "code",
   "execution_count": 170,
   "id": "ba197c3c-3f34-486f-9e6c-db4838c139b5",
   "metadata": {},
   "outputs": [],
   "source": [
    "#Change district_name t0 district\n",
    "df.rename(columns={'distict_name': 'district'}, inplace=True)"
   ]
  },
  {
   "cell_type": "code",
   "execution_count": 171,
   "id": "974c1296-ecf9-4152-bc51-af32be503b6d",
   "metadata": {},
   "outputs": [],
   "source": [
    "#Change member to name\n",
    "df.rename(columns={'member ': 'name'}, inplace=True)"
   ]
  },
  {
   "cell_type": "code",
   "execution_count": 172,
   "id": "14eb0773-e0ed-477a-94e4-597e949c3c59",
   "metadata": {},
   "outputs": [],
   "source": [
    "#remove trailing space in column names\n",
    "df.columns = df.columns.str.rstrip()"
   ]
  },
  {
   "cell_type": "code",
   "execution_count": 173,
   "id": "6e369edc-9eba-421c-8967-767690a75f94",
   "metadata": {},
   "outputs": [
    {
     "data": {
      "text/plain": [
       "435"
      ]
     },
     "execution_count": 173,
     "metadata": {},
     "output_type": "execute_result"
    }
   ],
   "source": [
    "#how many rows\n",
    "df.shape[0]"
   ]
  },
  {
   "cell_type": "code",
   "execution_count": 174,
   "id": "730b7dd3-dc3f-4e38-9ae5-9947fd011f01",
   "metadata": {},
   "outputs": [
    {
     "data": {
      "text/plain": [
       "name                4\n",
       "party               4\n",
       "prior_experience    4\n",
       "education           4\n",
       "assumed_office      4\n",
       "residence           4\n",
       "born                4\n",
       "Index               0\n",
       "district            0\n",
       "dtype: int64"
      ]
     },
     "execution_count": 174,
     "metadata": {},
     "output_type": "execute_result"
    }
   ],
   "source": [
    "#how many rows missing data\n",
    "df.isnull().sum().sort_values(ascending=False)"
   ]
  },
  {
   "cell_type": "code",
   "execution_count": 175,
   "id": "e9afb0b1-863d-4d11-91e7-0dabe65bf21c",
   "metadata": {},
   "outputs": [],
   "source": [
    "#change born into a string\n",
    "df['clean_born'] = df['born'].astype('|S')"
   ]
  },
  {
   "cell_type": "code",
   "execution_count": 176,
   "id": "1738d2a2-e8e3-4fcd-8ed9-86b3cbf8f3b5",
   "metadata": {},
   "outputs": [],
   "source": [
    "df['clean_born'] = df['clean_born'].astype('str')"
   ]
  },
  {
   "cell_type": "code",
   "execution_count": 177,
   "id": "0e9cde0a-0ea2-4d3a-879b-e431c911780f",
   "metadata": {},
   "outputs": [
    {
     "data": {
      "text/html": [
       "<div>\n",
       "<style scoped>\n",
       "    .dataframe tbody tr th:only-of-type {\n",
       "        vertical-align: middle;\n",
       "    }\n",
       "\n",
       "    .dataframe tbody tr th {\n",
       "        vertical-align: top;\n",
       "    }\n",
       "\n",
       "    .dataframe thead th {\n",
       "        text-align: right;\n",
       "    }\n",
       "</style>\n",
       "<table border=\"1\" class=\"dataframe\">\n",
       "  <thead>\n",
       "    <tr style=\"text-align: right;\">\n",
       "      <th></th>\n",
       "      <th>Index</th>\n",
       "      <th>district</th>\n",
       "      <th>name</th>\n",
       "      <th>party</th>\n",
       "      <th>prior_experience</th>\n",
       "      <th>education</th>\n",
       "      <th>assumed_office</th>\n",
       "      <th>residence</th>\n",
       "      <th>born</th>\n",
       "      <th>clean_born</th>\n",
       "    </tr>\n",
       "  </thead>\n",
       "  <tbody>\n",
       "    <tr>\n",
       "      <th>0</th>\n",
       "      <td>1</td>\n",
       "      <td>Alabama 1</td>\n",
       "      <td>Jerry Carl</td>\n",
       "      <td>Republican</td>\n",
       "      <td>Mobile County Commission</td>\n",
       "      <td>Florida Gateway College</td>\n",
       "      <td>2021</td>\n",
       "      <td>Mobile</td>\n",
       "      <td>June 17, 1958 (age 64)</td>\n",
       "      <td>b'June 17, 1958 (age 64)'</td>\n",
       "    </tr>\n",
       "    <tr>\n",
       "      <th>1</th>\n",
       "      <td>2</td>\n",
       "      <td>Alabama 2</td>\n",
       "      <td>Barry Moore</td>\n",
       "      <td>Republican</td>\n",
       "      <td>Alabama House of Representatives</td>\n",
       "      <td>Enterprise State Community College (AS)\\nAubur...</td>\n",
       "      <td>2021</td>\n",
       "      <td>Enterprise</td>\n",
       "      <td>September 26, 1966 (age 55)</td>\n",
       "      <td>b'September 26, 1966 (age 55)'</td>\n",
       "    </tr>\n",
       "    <tr>\n",
       "      <th>2</th>\n",
       "      <td>3</td>\n",
       "      <td>Alabama 3</td>\n",
       "      <td>Mike Rogers</td>\n",
       "      <td>Republican</td>\n",
       "      <td>Alabama House of Representatives</td>\n",
       "      <td>Jacksonville State University (BA, MPA)\\nBirmi...</td>\n",
       "      <td>2003</td>\n",
       "      <td>Anniston</td>\n",
       "      <td>July 16, 1958 (age 64)</td>\n",
       "      <td>b'July 16, 1958 (age 64)'</td>\n",
       "    </tr>\n",
       "    <tr>\n",
       "      <th>3</th>\n",
       "      <td>4</td>\n",
       "      <td>Alabama 4</td>\n",
       "      <td>Robert Aderholt</td>\n",
       "      <td>Republican</td>\n",
       "      <td>Haleyville Municipal Judge</td>\n",
       "      <td>University of North Alabama\\nBirmingham–Southe...</td>\n",
       "      <td>1997</td>\n",
       "      <td>Haleyville</td>\n",
       "      <td>July 22, 1965 (age 57)</td>\n",
       "      <td>b'July 22, 1965 (age 57)'</td>\n",
       "    </tr>\n",
       "    <tr>\n",
       "      <th>4</th>\n",
       "      <td>5</td>\n",
       "      <td>Alabama 5</td>\n",
       "      <td>Mo Brooks</td>\n",
       "      <td>Republican</td>\n",
       "      <td>Madison County Commissioner</td>\n",
       "      <td>Duke University (BA)\\nUniversity of Alabama (JD)</td>\n",
       "      <td>2011</td>\n",
       "      <td>Huntsville</td>\n",
       "      <td>April 29, 1954 (age 68)</td>\n",
       "      <td>b'April 29, 1954 (age 68)'</td>\n",
       "    </tr>\n",
       "  </tbody>\n",
       "</table>\n",
       "</div>"
      ],
      "text/plain": [
       "   Index   district             name       party  \\\n",
       "0      1  Alabama 1       Jerry Carl  Republican   \n",
       "1      2  Alabama 2      Barry Moore  Republican   \n",
       "2      3  Alabama 3      Mike Rogers  Republican   \n",
       "3      4  Alabama 4  Robert Aderholt  Republican   \n",
       "4      5  Alabama 5        Mo Brooks  Republican   \n",
       "\n",
       "                   prior_experience  \\\n",
       "0         Mobile County Commission    \n",
       "1  Alabama House of Representatives   \n",
       "2  Alabama House of Representatives   \n",
       "3       Haleyville Municipal Judge    \n",
       "4      Madison County Commissioner    \n",
       "\n",
       "                                           education assumed_office  \\\n",
       "0                            Florida Gateway College           2021   \n",
       "1  Enterprise State Community College (AS)\\nAubur...           2021   \n",
       "2  Jacksonville State University (BA, MPA)\\nBirmi...           2003   \n",
       "3  University of North Alabama\\nBirmingham–Southe...           1997   \n",
       "4   Duke University (BA)\\nUniversity of Alabama (JD)           2011   \n",
       "\n",
       "    residence                         born                      clean_born  \n",
       "0      Mobile       June 17, 1958 (age 64)       b'June 17, 1958 (age 64)'  \n",
       "1  Enterprise  September 26, 1966 (age 55)  b'September 26, 1966 (age 55)'  \n",
       "2   Anniston        July 16, 1958 (age 64)       b'July 16, 1958 (age 64)'  \n",
       "3  Haleyville       July 22, 1965 (age 57)       b'July 22, 1965 (age 57)'  \n",
       "4  Huntsville      April 29, 1954 (age 68)      b'April 29, 1954 (age 68)'  "
      ]
     },
     "execution_count": 177,
     "metadata": {},
     "output_type": "execute_result"
    }
   ],
   "source": [
    "df.head()"
   ]
  },
  {
   "cell_type": "code",
   "execution_count": 178,
   "id": "37dad9b2-1929-4758-9813-49c967b0c4b4",
   "metadata": {},
   "outputs": [
    {
     "data": {
      "text/html": [
       "<div>\n",
       "<style scoped>\n",
       "    .dataframe tbody tr th:only-of-type {\n",
       "        vertical-align: middle;\n",
       "    }\n",
       "\n",
       "    .dataframe tbody tr th {\n",
       "        vertical-align: top;\n",
       "    }\n",
       "\n",
       "    .dataframe thead th {\n",
       "        text-align: right;\n",
       "    }\n",
       "</style>\n",
       "<table border=\"1\" class=\"dataframe\">\n",
       "  <thead>\n",
       "    <tr style=\"text-align: right;\">\n",
       "      <th></th>\n",
       "      <th>born</th>\n",
       "      <th>clean_born</th>\n",
       "    </tr>\n",
       "  </thead>\n",
       "  <tbody>\n",
       "    <tr>\n",
       "      <th>0</th>\n",
       "      <td>June 17, 1958 (age 64)</td>\n",
       "      <td>June 17, 1958</td>\n",
       "    </tr>\n",
       "    <tr>\n",
       "      <th>1</th>\n",
       "      <td>September 26, 1966 (age 55)</td>\n",
       "      <td>September 26, 1966</td>\n",
       "    </tr>\n",
       "    <tr>\n",
       "      <th>2</th>\n",
       "      <td>July 16, 1958 (age 64)</td>\n",
       "      <td>July 16, 1958</td>\n",
       "    </tr>\n",
       "    <tr>\n",
       "      <th>3</th>\n",
       "      <td>July 22, 1965 (age 57)</td>\n",
       "      <td>July 22, 1965</td>\n",
       "    </tr>\n",
       "    <tr>\n",
       "      <th>4</th>\n",
       "      <td>April 29, 1954 (age 68)</td>\n",
       "      <td>April 29, 1954</td>\n",
       "    </tr>\n",
       "  </tbody>\n",
       "</table>\n",
       "</div>"
      ],
      "text/plain": [
       "                          born           clean_born\n",
       "0       June 17, 1958 (age 64)       June 17, 1958 \n",
       "1  September 26, 1966 (age 55)  September 26, 1966 \n",
       "2       July 16, 1958 (age 64)       July 16, 1958 \n",
       "3       July 22, 1965 (age 57)       July 22, 1965 \n",
       "4      April 29, 1954 (age 68)      April 29, 1954 "
      ]
     },
     "execution_count": 178,
     "metadata": {},
     "output_type": "execute_result"
    }
   ],
   "source": [
    "#Remove everything after the ( from clean_born\n",
    "df['clean_born'] = df['born'].str.split('(').str[0]\n",
    "df[['born', 'clean_born']].head()"
   ]
  },
  {
   "cell_type": "code",
   "execution_count": 194,
   "id": "1bececb5-26ad-42bb-a4a1-45a06507876f",
   "metadata": {},
   "outputs": [],
   "source": [
    "#Turn clean_born into datetime type\n",
    "df['clean_born'] = pd.to_datetime(df['clean_born'])"
   ]
  },
  {
   "cell_type": "code",
   "execution_count": 180,
   "id": "66051fff-3a6f-4cab-b257-6d92054fd0bd",
   "metadata": {},
   "outputs": [
    {
     "data": {
      "text/html": [
       "<div>\n",
       "<style scoped>\n",
       "    .dataframe tbody tr th:only-of-type {\n",
       "        vertical-align: middle;\n",
       "    }\n",
       "\n",
       "    .dataframe tbody tr th {\n",
       "        vertical-align: top;\n",
       "    }\n",
       "\n",
       "    .dataframe thead th {\n",
       "        text-align: right;\n",
       "    }\n",
       "</style>\n",
       "<table border=\"1\" class=\"dataframe\">\n",
       "  <thead>\n",
       "    <tr style=\"text-align: right;\">\n",
       "      <th></th>\n",
       "      <th>DataType</th>\n",
       "    </tr>\n",
       "  </thead>\n",
       "  <tbody>\n",
       "    <tr>\n",
       "      <th>Index</th>\n",
       "      <td>int64</td>\n",
       "    </tr>\n",
       "    <tr>\n",
       "      <th>district</th>\n",
       "      <td>object</td>\n",
       "    </tr>\n",
       "    <tr>\n",
       "      <th>name</th>\n",
       "      <td>object</td>\n",
       "    </tr>\n",
       "    <tr>\n",
       "      <th>party</th>\n",
       "      <td>object</td>\n",
       "    </tr>\n",
       "    <tr>\n",
       "      <th>prior_experience</th>\n",
       "      <td>object</td>\n",
       "    </tr>\n",
       "    <tr>\n",
       "      <th>education</th>\n",
       "      <td>object</td>\n",
       "    </tr>\n",
       "    <tr>\n",
       "      <th>assumed_office</th>\n",
       "      <td>object</td>\n",
       "    </tr>\n",
       "    <tr>\n",
       "      <th>residence</th>\n",
       "      <td>object</td>\n",
       "    </tr>\n",
       "    <tr>\n",
       "      <th>born</th>\n",
       "      <td>object</td>\n",
       "    </tr>\n",
       "    <tr>\n",
       "      <th>clean_born</th>\n",
       "      <td>datetime64[ns]</td>\n",
       "    </tr>\n",
       "  </tbody>\n",
       "</table>\n",
       "</div>"
      ],
      "text/plain": [
       "                        DataType\n",
       "Index                      int64\n",
       "district                  object\n",
       "name                      object\n",
       "party                     object\n",
       "prior_experience          object\n",
       "education                 object\n",
       "assumed_office            object\n",
       "residence                 object\n",
       "born                      object\n",
       "clean_born        datetime64[ns]"
      ]
     },
     "execution_count": 180,
     "metadata": {},
     "output_type": "execute_result"
    }
   ],
   "source": [
    "pd.DataFrame(df.dtypes, columns=[\"DataType\"])"
   ]
  },
  {
   "cell_type": "code",
   "execution_count": 181,
   "id": "fd7c30c2-218b-4d2a-b26c-8eb5adeb0599",
   "metadata": {},
   "outputs": [
    {
     "data": {
      "text/html": [
       "<div>\n",
       "<style scoped>\n",
       "    .dataframe tbody tr th:only-of-type {\n",
       "        vertical-align: middle;\n",
       "    }\n",
       "\n",
       "    .dataframe tbody tr th {\n",
       "        vertical-align: top;\n",
       "    }\n",
       "\n",
       "    .dataframe thead th {\n",
       "        text-align: right;\n",
       "    }\n",
       "</style>\n",
       "<table border=\"1\" class=\"dataframe\">\n",
       "  <thead>\n",
       "    <tr style=\"text-align: right;\">\n",
       "      <th></th>\n",
       "      <th>Index</th>\n",
       "      <th>district</th>\n",
       "      <th>name</th>\n",
       "      <th>party</th>\n",
       "      <th>prior_experience</th>\n",
       "      <th>education</th>\n",
       "      <th>assumed_office</th>\n",
       "      <th>residence</th>\n",
       "      <th>born</th>\n",
       "      <th>clean_born</th>\n",
       "    </tr>\n",
       "  </thead>\n",
       "  <tbody>\n",
       "    <tr>\n",
       "      <th>7</th>\n",
       "      <td>8</td>\n",
       "      <td>Alaska at-large</td>\n",
       "      <td>NaN</td>\n",
       "      <td>NaN</td>\n",
       "      <td>NaN</td>\n",
       "      <td>NaN</td>\n",
       "      <td>NaN</td>\n",
       "      <td>NaN</td>\n",
       "      <td>NaN</td>\n",
       "      <td>NaT</td>\n",
       "    </tr>\n",
       "    <tr>\n",
       "      <th>212</th>\n",
       "      <td>213</td>\n",
       "      <td>Minnesota 1</td>\n",
       "      <td>NaN</td>\n",
       "      <td>NaN</td>\n",
       "      <td>NaN</td>\n",
       "      <td>NaN</td>\n",
       "      <td>NaN</td>\n",
       "      <td>NaN</td>\n",
       "      <td>NaN</td>\n",
       "      <td>NaT</td>\n",
       "    </tr>\n",
       "    <tr>\n",
       "      <th>275</th>\n",
       "      <td>276</td>\n",
       "      <td>New York 19</td>\n",
       "      <td>NaN</td>\n",
       "      <td>NaN</td>\n",
       "      <td>NaN</td>\n",
       "      <td>NaN</td>\n",
       "      <td>NaN</td>\n",
       "      <td>NaN</td>\n",
       "      <td>NaN</td>\n",
       "      <td>NaT</td>\n",
       "    </tr>\n",
       "    <tr>\n",
       "      <th>279</th>\n",
       "      <td>280</td>\n",
       "      <td>New York 23</td>\n",
       "      <td>NaN</td>\n",
       "      <td>NaN</td>\n",
       "      <td>NaN</td>\n",
       "      <td>NaN</td>\n",
       "      <td>NaN</td>\n",
       "      <td>NaN</td>\n",
       "      <td>NaN</td>\n",
       "      <td>NaT</td>\n",
       "    </tr>\n",
       "  </tbody>\n",
       "</table>\n",
       "</div>"
      ],
      "text/plain": [
       "     Index         district name party prior_experience education  \\\n",
       "7        8  Alaska at-large  NaN   NaN              NaN       NaN   \n",
       "212    213      Minnesota 1  NaN   NaN              NaN       NaN   \n",
       "275    276      New York 19  NaN   NaN              NaN       NaN   \n",
       "279    280      New York 23  NaN   NaN              NaN       NaN   \n",
       "\n",
       "    assumed_office residence born clean_born  \n",
       "7              NaN       NaN  NaN        NaT  \n",
       "212            NaN       NaN  NaN        NaT  \n",
       "275            NaN       NaN  NaN        NaT  \n",
       "279            NaN       NaN  NaN        NaT  "
      ]
     },
     "execution_count": 181,
     "metadata": {},
     "output_type": "execute_result"
    }
   ],
   "source": [
    "#check for null values and replace\n",
    "df[df['residence'].isnull()]"
   ]
  },
  {
   "cell_type": "code",
   "execution_count": 182,
   "id": "d7c2a4df-d6a6-49a7-985a-f235ca8e9917",
   "metadata": {},
   "outputs": [
    {
     "data": {
      "text/plain": [
       "name                4\n",
       "party               4\n",
       "prior_experience    4\n",
       "education           4\n",
       "assumed_office      4\n",
       "residence           4\n",
       "born                4\n",
       "clean_born          4\n",
       "Index               0\n",
       "district            0\n",
       "dtype: int64"
      ]
     },
     "execution_count": 182,
     "metadata": {},
     "output_type": "execute_result"
    }
   ],
   "source": [
    "#Sort by most missing data\n",
    "df.isnull().sum().sort_values(ascending=False)"
   ]
  },
  {
   "cell_type": "code",
   "execution_count": 183,
   "id": "aace0280-2fca-454f-a1b4-ec46df5248bc",
   "metadata": {},
   "outputs": [],
   "source": [
    "#Fill in missing data\n",
    "df[\"name\"].fillna(\"None\", inplace=True)"
   ]
  },
  {
   "cell_type": "code",
   "execution_count": 184,
   "id": "bcaef067-f1bc-46f7-8b3d-d074ded1cccb",
   "metadata": {},
   "outputs": [],
   "source": [
    "df[\"party\"].fillna(\"None\", inplace=True)"
   ]
  },
  {
   "cell_type": "code",
   "execution_count": 185,
   "id": "b354f954-221f-43bb-b2ce-9ee5d20ea64a",
   "metadata": {},
   "outputs": [],
   "source": [
    "df[\"residence\"].fillna(\"None\", inplace=True)"
   ]
  },
  {
   "cell_type": "code",
   "execution_count": 186,
   "id": "4af6838c-cad7-4430-8994-2dbb80c7bcdb",
   "metadata": {},
   "outputs": [],
   "source": [
    "df[\"prior_experience\"].fillna(\"None\", inplace=True)"
   ]
  },
  {
   "cell_type": "code",
   "execution_count": 187,
   "id": "4e89cba6-c8b3-4b1c-9c0c-c895cc209333",
   "metadata": {},
   "outputs": [],
   "source": [
    "df[\"education\"].fillna(\"None\", inplace=True)"
   ]
  },
  {
   "cell_type": "code",
   "execution_count": 188,
   "id": "88ab999c-d8f1-4b13-8d11-f7b96ddfc999",
   "metadata": {},
   "outputs": [],
   "source": [
    "df[\"assumed_office\"].fillna(0, inplace=True)"
   ]
  },
  {
   "cell_type": "code",
   "execution_count": 189,
   "id": "2a94694b-5374-4003-a16b-ece504a3fca7",
   "metadata": {},
   "outputs": [],
   "source": [
    "df[\"born\"].fillna(0, inplace=True)"
   ]
  },
  {
   "cell_type": "code",
   "execution_count": 190,
   "id": "d081f9f3-3343-4fc3-bf2d-c9578f69f0bf",
   "metadata": {},
   "outputs": [],
   "source": [
    "df[\"clean_born\"].fillna(datetime.date.today(), inplace=True)"
   ]
  },
  {
   "cell_type": "code",
   "execution_count": 196,
   "id": "767e0423-fdbf-4ce9-85e7-4cb91463a9cf",
   "metadata": {},
   "outputs": [
    {
     "data": {
      "text/plain": [
       "Index               0\n",
       "district            0\n",
       "name                0\n",
       "party               0\n",
       "prior_experience    0\n",
       "education           0\n",
       "assumed_office      0\n",
       "residence           0\n",
       "born                0\n",
       "clean_born          0\n",
       "dtype: int64"
      ]
     },
     "execution_count": 196,
     "metadata": {},
     "output_type": "execute_result"
    }
   ],
   "source": [
    "df.isnull().sum().sort_values(ascending=False)"
   ]
  },
  {
   "cell_type": "code",
   "execution_count": 192,
   "id": "054d7710-8bd3-43cb-a382-9562d1e29a29",
   "metadata": {},
   "outputs": [
    {
     "data": {
      "text/html": [
       "<div>\n",
       "<style scoped>\n",
       "    .dataframe tbody tr th:only-of-type {\n",
       "        vertical-align: middle;\n",
       "    }\n",
       "\n",
       "    .dataframe tbody tr th {\n",
       "        vertical-align: top;\n",
       "    }\n",
       "\n",
       "    .dataframe thead th {\n",
       "        text-align: right;\n",
       "    }\n",
       "</style>\n",
       "<table border=\"1\" class=\"dataframe\">\n",
       "  <thead>\n",
       "    <tr style=\"text-align: right;\">\n",
       "      <th></th>\n",
       "      <th>Index</th>\n",
       "      <th>district</th>\n",
       "      <th>name</th>\n",
       "      <th>party</th>\n",
       "      <th>prior_experience</th>\n",
       "      <th>education</th>\n",
       "      <th>assumed_office</th>\n",
       "      <th>residence</th>\n",
       "      <th>born</th>\n",
       "      <th>clean_born</th>\n",
       "    </tr>\n",
       "  </thead>\n",
       "  <tbody>\n",
       "  </tbody>\n",
       "</table>\n",
       "</div>"
      ],
      "text/plain": [
       "Empty DataFrame\n",
       "Columns: [Index, district, name, party, prior_experience, education, assumed_office, residence, born, clean_born]\n",
       "Index: []"
      ]
     },
     "execution_count": 192,
     "metadata": {},
     "output_type": "execute_result"
    }
   ],
   "source": [
    "#Turn clean_born into datetime type\n",
    "df['clean_born'] = pd.to_datetime(df['clean_born'])"
   ]
  },
  {
   "cell_type": "code",
   "execution_count": 197,
   "id": "a38279af-ac00-485e-aa5a-134cbbdb2aae",
   "metadata": {},
   "outputs": [
    {
     "data": {
      "text/html": [
       "<div>\n",
       "<style scoped>\n",
       "    .dataframe tbody tr th:only-of-type {\n",
       "        vertical-align: middle;\n",
       "    }\n",
       "\n",
       "    .dataframe tbody tr th {\n",
       "        vertical-align: top;\n",
       "    }\n",
       "\n",
       "    .dataframe thead th {\n",
       "        text-align: right;\n",
       "    }\n",
       "</style>\n",
       "<table border=\"1\" class=\"dataframe\">\n",
       "  <thead>\n",
       "    <tr style=\"text-align: right;\">\n",
       "      <th></th>\n",
       "      <th>DataType</th>\n",
       "    </tr>\n",
       "  </thead>\n",
       "  <tbody>\n",
       "    <tr>\n",
       "      <th>Index</th>\n",
       "      <td>int64</td>\n",
       "    </tr>\n",
       "    <tr>\n",
       "      <th>district</th>\n",
       "      <td>object</td>\n",
       "    </tr>\n",
       "    <tr>\n",
       "      <th>name</th>\n",
       "      <td>object</td>\n",
       "    </tr>\n",
       "    <tr>\n",
       "      <th>party</th>\n",
       "      <td>object</td>\n",
       "    </tr>\n",
       "    <tr>\n",
       "      <th>prior_experience</th>\n",
       "      <td>object</td>\n",
       "    </tr>\n",
       "    <tr>\n",
       "      <th>education</th>\n",
       "      <td>object</td>\n",
       "    </tr>\n",
       "    <tr>\n",
       "      <th>assumed_office</th>\n",
       "      <td>object</td>\n",
       "    </tr>\n",
       "    <tr>\n",
       "      <th>residence</th>\n",
       "      <td>object</td>\n",
       "    </tr>\n",
       "    <tr>\n",
       "      <th>born</th>\n",
       "      <td>object</td>\n",
       "    </tr>\n",
       "    <tr>\n",
       "      <th>clean_born</th>\n",
       "      <td>datetime64[ns]</td>\n",
       "    </tr>\n",
       "  </tbody>\n",
       "</table>\n",
       "</div>"
      ],
      "text/plain": [
       "                        DataType\n",
       "Index                      int64\n",
       "district                  object\n",
       "name                      object\n",
       "party                     object\n",
       "prior_experience          object\n",
       "education                 object\n",
       "assumed_office            object\n",
       "residence                 object\n",
       "born                      object\n",
       "clean_born        datetime64[ns]"
      ]
     },
     "execution_count": 197,
     "metadata": {},
     "output_type": "execute_result"
    }
   ],
   "source": [
    "pd.DataFrame(df.dtypes, columns=[\"DataType\"])"
   ]
  },
  {
   "cell_type": "code",
   "execution_count": 200,
   "id": "8d19aa04-421d-45a7-87c0-db8d7fe787e4",
   "metadata": {},
   "outputs": [],
   "source": [
    "#function to calculate age based on birthdate and round\n",
    "def calculate_age(born):\n",
    "    today = datetime.date.today()\n",
    "    age = today.year - born.year - ((today.month, today.day) < (born.month, born.day))\n",
    "    return int(round(age))"
   ]
  },
  {
   "cell_type": "code",
   "execution_count": 201,
   "id": "911e6969-2e81-41a9-932e-9167a3278b00",
   "metadata": {},
   "outputs": [
    {
     "data": {
      "text/html": [
       "<div>\n",
       "<style scoped>\n",
       "    .dataframe tbody tr th:only-of-type {\n",
       "        vertical-align: middle;\n",
       "    }\n",
       "\n",
       "    .dataframe tbody tr th {\n",
       "        vertical-align: top;\n",
       "    }\n",
       "\n",
       "    .dataframe thead th {\n",
       "        text-align: right;\n",
       "    }\n",
       "</style>\n",
       "<table border=\"1\" class=\"dataframe\">\n",
       "  <thead>\n",
       "    <tr style=\"text-align: right;\">\n",
       "      <th></th>\n",
       "      <th>Index</th>\n",
       "      <th>district</th>\n",
       "      <th>name</th>\n",
       "      <th>party</th>\n",
       "      <th>prior_experience</th>\n",
       "      <th>education</th>\n",
       "      <th>assumed_office</th>\n",
       "      <th>residence</th>\n",
       "      <th>born</th>\n",
       "      <th>clean_born</th>\n",
       "      <th>age</th>\n",
       "    </tr>\n",
       "  </thead>\n",
       "  <tbody>\n",
       "    <tr>\n",
       "      <th>0</th>\n",
       "      <td>1</td>\n",
       "      <td>Alabama 1</td>\n",
       "      <td>Jerry Carl</td>\n",
       "      <td>Republican</td>\n",
       "      <td>Mobile County Commission</td>\n",
       "      <td>Florida Gateway College</td>\n",
       "      <td>2021</td>\n",
       "      <td>Mobile</td>\n",
       "      <td>June 17, 1958 (age 64)</td>\n",
       "      <td>1958-06-17</td>\n",
       "      <td>64</td>\n",
       "    </tr>\n",
       "    <tr>\n",
       "      <th>1</th>\n",
       "      <td>2</td>\n",
       "      <td>Alabama 2</td>\n",
       "      <td>Barry Moore</td>\n",
       "      <td>Republican</td>\n",
       "      <td>Alabama House of Representatives</td>\n",
       "      <td>Enterprise State Community College (AS)\\nAubur...</td>\n",
       "      <td>2021</td>\n",
       "      <td>Enterprise</td>\n",
       "      <td>September 26, 1966 (age 55)</td>\n",
       "      <td>1966-09-26</td>\n",
       "      <td>55</td>\n",
       "    </tr>\n",
       "    <tr>\n",
       "      <th>2</th>\n",
       "      <td>3</td>\n",
       "      <td>Alabama 3</td>\n",
       "      <td>Mike Rogers</td>\n",
       "      <td>Republican</td>\n",
       "      <td>Alabama House of Representatives</td>\n",
       "      <td>Jacksonville State University (BA, MPA)\\nBirmi...</td>\n",
       "      <td>2003</td>\n",
       "      <td>Anniston</td>\n",
       "      <td>July 16, 1958 (age 64)</td>\n",
       "      <td>1958-07-16</td>\n",
       "      <td>64</td>\n",
       "    </tr>\n",
       "    <tr>\n",
       "      <th>3</th>\n",
       "      <td>4</td>\n",
       "      <td>Alabama 4</td>\n",
       "      <td>Robert Aderholt</td>\n",
       "      <td>Republican</td>\n",
       "      <td>Haleyville Municipal Judge</td>\n",
       "      <td>University of North Alabama\\nBirmingham–Southe...</td>\n",
       "      <td>1997</td>\n",
       "      <td>Haleyville</td>\n",
       "      <td>July 22, 1965 (age 57)</td>\n",
       "      <td>1965-07-22</td>\n",
       "      <td>57</td>\n",
       "    </tr>\n",
       "    <tr>\n",
       "      <th>4</th>\n",
       "      <td>5</td>\n",
       "      <td>Alabama 5</td>\n",
       "      <td>Mo Brooks</td>\n",
       "      <td>Republican</td>\n",
       "      <td>Madison County Commissioner</td>\n",
       "      <td>Duke University (BA)\\nUniversity of Alabama (JD)</td>\n",
       "      <td>2011</td>\n",
       "      <td>Huntsville</td>\n",
       "      <td>April 29, 1954 (age 68)</td>\n",
       "      <td>1954-04-29</td>\n",
       "      <td>68</td>\n",
       "    </tr>\n",
       "  </tbody>\n",
       "</table>\n",
       "</div>"
      ],
      "text/plain": [
       "   Index   district             name       party  \\\n",
       "0      1  Alabama 1       Jerry Carl  Republican   \n",
       "1      2  Alabama 2      Barry Moore  Republican   \n",
       "2      3  Alabama 3      Mike Rogers  Republican   \n",
       "3      4  Alabama 4  Robert Aderholt  Republican   \n",
       "4      5  Alabama 5        Mo Brooks  Republican   \n",
       "\n",
       "                   prior_experience  \\\n",
       "0         Mobile County Commission    \n",
       "1  Alabama House of Representatives   \n",
       "2  Alabama House of Representatives   \n",
       "3       Haleyville Municipal Judge    \n",
       "4      Madison County Commissioner    \n",
       "\n",
       "                                           education assumed_office  \\\n",
       "0                            Florida Gateway College           2021   \n",
       "1  Enterprise State Community College (AS)\\nAubur...           2021   \n",
       "2  Jacksonville State University (BA, MPA)\\nBirmi...           2003   \n",
       "3  University of North Alabama\\nBirmingham–Southe...           1997   \n",
       "4   Duke University (BA)\\nUniversity of Alabama (JD)           2011   \n",
       "\n",
       "    residence                         born clean_born  age  \n",
       "0      Mobile       June 17, 1958 (age 64) 1958-06-17   64  \n",
       "1  Enterprise  September 26, 1966 (age 55) 1966-09-26   55  \n",
       "2   Anniston        July 16, 1958 (age 64) 1958-07-16   64  \n",
       "3  Haleyville       July 22, 1965 (age 57) 1965-07-22   57  \n",
       "4  Huntsville      April 29, 1954 (age 68) 1954-04-29   68  "
      ]
     },
     "execution_count": 201,
     "metadata": {},
     "output_type": "execute_result"
    }
   ],
   "source": [
    "#apply age function\n",
    "df['age'] = df['clean_born'].apply(calculate_age)\n",
    "df.head()"
   ]
  },
  {
   "cell_type": "code",
   "execution_count": 202,
   "id": "cf680ada-4d11-4b6e-a7a3-aa68a8fcb3cb",
   "metadata": {},
   "outputs": [
    {
     "name": "stdout",
     "output_type": "stream",
     "text": [
      "Alaska|Alabama|Arkansas|Arizona|California|Colorado|Connecticut|Delaware|Florida|Georgia|Hawaii|Iowa|Idaho|Illinois|Indiana|Kansas|Kentucky|Louisiana|Massachusetts|Maryland|Maine|Michigan|Minnesota|Missouri|Mississippi|Montana|North Carolina|North Dakota|Nebraska|New Hampshire|New Jersey|New Mexico|Nevada|New York|Ohio|Oklahoma|Oregon|Pennsylvania|Rhode Island|South Carolina|South Dakota|Tennessee|Texas|Utah|Virginia|Vermont|Washington|Wisconsin|West Virginia|Wyoming\n"
     ]
    }
   ],
   "source": [
    "#Create string of all state names\n",
    "s='|'.join(states)\n",
    "print(s)"
   ]
  },
  {
   "cell_type": "code",
   "execution_count": 203,
   "id": "d9da0487-8616-43c7-95bf-c40d64f63579",
   "metadata": {},
   "outputs": [
    {
     "data": {
      "text/html": [
       "<div>\n",
       "<style scoped>\n",
       "    .dataframe tbody tr th:only-of-type {\n",
       "        vertical-align: middle;\n",
       "    }\n",
       "\n",
       "    .dataframe tbody tr th {\n",
       "        vertical-align: top;\n",
       "    }\n",
       "\n",
       "    .dataframe thead th {\n",
       "        text-align: right;\n",
       "    }\n",
       "</style>\n",
       "<table border=\"1\" class=\"dataframe\">\n",
       "  <thead>\n",
       "    <tr style=\"text-align: right;\">\n",
       "      <th></th>\n",
       "      <th>Index</th>\n",
       "      <th>district</th>\n",
       "      <th>name</th>\n",
       "      <th>party</th>\n",
       "      <th>prior_experience</th>\n",
       "      <th>education</th>\n",
       "      <th>assumed_office</th>\n",
       "      <th>residence</th>\n",
       "      <th>born</th>\n",
       "      <th>clean_born</th>\n",
       "      <th>age</th>\n",
       "      <th>test_state</th>\n",
       "    </tr>\n",
       "  </thead>\n",
       "  <tbody>\n",
       "    <tr>\n",
       "      <th>54</th>\n",
       "      <td>55</td>\n",
       "      <td>California 34</td>\n",
       "      <td>Jimmy Gomez</td>\n",
       "      <td>Democratic</td>\n",
       "      <td>California State Assembly</td>\n",
       "      <td>University of California, Los Angeles (BA)\\nHa...</td>\n",
       "      <td>2017 (special)</td>\n",
       "      <td>Los Angeles</td>\n",
       "      <td>November 25, 1974 (age 47)</td>\n",
       "      <td>1974-11-25</td>\n",
       "      <td>47</td>\n",
       "      <td>[California]</td>\n",
       "    </tr>\n",
       "  </tbody>\n",
       "</table>\n",
       "</div>"
      ],
      "text/plain": [
       "    Index       district         name       party           prior_experience  \\\n",
       "54     55  California 34  Jimmy Gomez  Democratic  California State Assembly   \n",
       "\n",
       "                                            education  assumed_office  \\\n",
       "54  University of California, Los Angeles (BA)\\nHa...  2017 (special)   \n",
       "\n",
       "      residence                        born clean_born  age    test_state  \n",
       "54  Los Angeles  November 25, 1974 (age 47) 1974-11-25   47  [California]  "
      ]
     },
     "execution_count": 203,
     "metadata": {},
     "output_type": "execute_result"
    }
   ],
   "source": [
    "#Pull names that match district column into single item array\n",
    "df['test_state']=df.district.str.findall(s)\n",
    "df.sample()"
   ]
  },
  {
   "cell_type": "code",
   "execution_count": 204,
   "id": "82c9ad8d-5acc-4e6c-9f51-e66dc72ddf6b",
   "metadata": {},
   "outputs": [
    {
     "data": {
      "text/html": [
       "<div>\n",
       "<style scoped>\n",
       "    .dataframe tbody tr th:only-of-type {\n",
       "        vertical-align: middle;\n",
       "    }\n",
       "\n",
       "    .dataframe tbody tr th {\n",
       "        vertical-align: top;\n",
       "    }\n",
       "\n",
       "    .dataframe thead th {\n",
       "        text-align: right;\n",
       "    }\n",
       "</style>\n",
       "<table border=\"1\" class=\"dataframe\">\n",
       "  <thead>\n",
       "    <tr style=\"text-align: right;\">\n",
       "      <th></th>\n",
       "      <th>index</th>\n",
       "      <th>Index</th>\n",
       "      <th>district</th>\n",
       "      <th>name</th>\n",
       "      <th>party</th>\n",
       "      <th>prior_experience</th>\n",
       "      <th>education</th>\n",
       "      <th>assumed_office</th>\n",
       "      <th>residence</th>\n",
       "      <th>born</th>\n",
       "      <th>clean_born</th>\n",
       "      <th>age</th>\n",
       "      <th>test_state</th>\n",
       "    </tr>\n",
       "  </thead>\n",
       "  <tbody>\n",
       "    <tr>\n",
       "      <th>0</th>\n",
       "      <td>0</td>\n",
       "      <td>1</td>\n",
       "      <td>Alabama 1</td>\n",
       "      <td>Jerry Carl</td>\n",
       "      <td>Republican</td>\n",
       "      <td>Mobile County Commission</td>\n",
       "      <td>Florida Gateway College</td>\n",
       "      <td>2021</td>\n",
       "      <td>Mobile</td>\n",
       "      <td>June 17, 1958 (age 64)</td>\n",
       "      <td>1958-06-17</td>\n",
       "      <td>64</td>\n",
       "      <td>[Alabama]</td>\n",
       "    </tr>\n",
       "    <tr>\n",
       "      <th>1</th>\n",
       "      <td>1</td>\n",
       "      <td>2</td>\n",
       "      <td>Alabama 2</td>\n",
       "      <td>Barry Moore</td>\n",
       "      <td>Republican</td>\n",
       "      <td>Alabama House of Representatives</td>\n",
       "      <td>Enterprise State Community College (AS)\\nAubur...</td>\n",
       "      <td>2021</td>\n",
       "      <td>Enterprise</td>\n",
       "      <td>September 26, 1966 (age 55)</td>\n",
       "      <td>1966-09-26</td>\n",
       "      <td>55</td>\n",
       "      <td>[Alabama]</td>\n",
       "    </tr>\n",
       "    <tr>\n",
       "      <th>2</th>\n",
       "      <td>2</td>\n",
       "      <td>3</td>\n",
       "      <td>Alabama 3</td>\n",
       "      <td>Mike Rogers</td>\n",
       "      <td>Republican</td>\n",
       "      <td>Alabama House of Representatives</td>\n",
       "      <td>Jacksonville State University (BA, MPA)\\nBirmi...</td>\n",
       "      <td>2003</td>\n",
       "      <td>Anniston</td>\n",
       "      <td>July 16, 1958 (age 64)</td>\n",
       "      <td>1958-07-16</td>\n",
       "      <td>64</td>\n",
       "      <td>[Alabama]</td>\n",
       "    </tr>\n",
       "    <tr>\n",
       "      <th>3</th>\n",
       "      <td>3</td>\n",
       "      <td>4</td>\n",
       "      <td>Alabama 4</td>\n",
       "      <td>Robert Aderholt</td>\n",
       "      <td>Republican</td>\n",
       "      <td>Haleyville Municipal Judge</td>\n",
       "      <td>University of North Alabama\\nBirmingham–Southe...</td>\n",
       "      <td>1997</td>\n",
       "      <td>Haleyville</td>\n",
       "      <td>July 22, 1965 (age 57)</td>\n",
       "      <td>1965-07-22</td>\n",
       "      <td>57</td>\n",
       "      <td>[Alabama]</td>\n",
       "    </tr>\n",
       "    <tr>\n",
       "      <th>4</th>\n",
       "      <td>4</td>\n",
       "      <td>5</td>\n",
       "      <td>Alabama 5</td>\n",
       "      <td>Mo Brooks</td>\n",
       "      <td>Republican</td>\n",
       "      <td>Madison County Commissioner</td>\n",
       "      <td>Duke University (BA)\\nUniversity of Alabama (JD)</td>\n",
       "      <td>2011</td>\n",
       "      <td>Huntsville</td>\n",
       "      <td>April 29, 1954 (age 68)</td>\n",
       "      <td>1954-04-29</td>\n",
       "      <td>68</td>\n",
       "      <td>[Alabama]</td>\n",
       "    </tr>\n",
       "  </tbody>\n",
       "</table>\n",
       "</div>"
      ],
      "text/plain": [
       "   index  Index   district             name       party  \\\n",
       "0      0      1  Alabama 1       Jerry Carl  Republican   \n",
       "1      1      2  Alabama 2      Barry Moore  Republican   \n",
       "2      2      3  Alabama 3      Mike Rogers  Republican   \n",
       "3      3      4  Alabama 4  Robert Aderholt  Republican   \n",
       "4      4      5  Alabama 5        Mo Brooks  Republican   \n",
       "\n",
       "                   prior_experience  \\\n",
       "0         Mobile County Commission    \n",
       "1  Alabama House of Representatives   \n",
       "2  Alabama House of Representatives   \n",
       "3       Haleyville Municipal Judge    \n",
       "4      Madison County Commissioner    \n",
       "\n",
       "                                           education assumed_office  \\\n",
       "0                            Florida Gateway College           2021   \n",
       "1  Enterprise State Community College (AS)\\nAubur...           2021   \n",
       "2  Jacksonville State University (BA, MPA)\\nBirmi...           2003   \n",
       "3  University of North Alabama\\nBirmingham–Southe...           1997   \n",
       "4   Duke University (BA)\\nUniversity of Alabama (JD)           2011   \n",
       "\n",
       "    residence                         born clean_born  age test_state  \n",
       "0      Mobile       June 17, 1958 (age 64) 1958-06-17   64  [Alabama]  \n",
       "1  Enterprise  September 26, 1966 (age 55) 1966-09-26   55  [Alabama]  \n",
       "2   Anniston        July 16, 1958 (age 64) 1958-07-16   64  [Alabama]  \n",
       "3  Haleyville       July 22, 1965 (age 57) 1965-07-22   57  [Alabama]  \n",
       "4  Huntsville      April 29, 1954 (age 68) 1954-04-29   68  [Alabama]  "
      ]
     },
     "execution_count": 204,
     "metadata": {},
     "output_type": "execute_result"
    }
   ],
   "source": [
    "df.reset_index(inplace = True)\n",
    "df.head()"
   ]
  },
  {
   "cell_type": "code",
   "execution_count": 206,
   "id": "4a7a0921-541a-4c53-8fd7-a9dba2561a54",
   "metadata": {},
   "outputs": [],
   "source": [
    "df.drop('index', inplace=True, axis=1)"
   ]
  },
  {
   "cell_type": "code",
   "execution_count": 207,
   "id": "b7dc560f-aaef-4325-a7c4-620fe1ea4d89",
   "metadata": {},
   "outputs": [
    {
     "data": {
      "text/html": [
       "<div>\n",
       "<style scoped>\n",
       "    .dataframe tbody tr th:only-of-type {\n",
       "        vertical-align: middle;\n",
       "    }\n",
       "\n",
       "    .dataframe tbody tr th {\n",
       "        vertical-align: top;\n",
       "    }\n",
       "\n",
       "    .dataframe thead th {\n",
       "        text-align: right;\n",
       "    }\n",
       "</style>\n",
       "<table border=\"1\" class=\"dataframe\">\n",
       "  <thead>\n",
       "    <tr style=\"text-align: right;\">\n",
       "      <th></th>\n",
       "      <th>district</th>\n",
       "      <th>name</th>\n",
       "      <th>party</th>\n",
       "      <th>prior_experience</th>\n",
       "      <th>education</th>\n",
       "      <th>assumed_office</th>\n",
       "      <th>residence</th>\n",
       "      <th>born</th>\n",
       "      <th>clean_born</th>\n",
       "      <th>age</th>\n",
       "      <th>test_state</th>\n",
       "    </tr>\n",
       "  </thead>\n",
       "  <tbody>\n",
       "    <tr>\n",
       "      <th>0</th>\n",
       "      <td>Alabama 1</td>\n",
       "      <td>Jerry Carl</td>\n",
       "      <td>Republican</td>\n",
       "      <td>Mobile County Commission</td>\n",
       "      <td>Florida Gateway College</td>\n",
       "      <td>2021</td>\n",
       "      <td>Mobile</td>\n",
       "      <td>June 17, 1958 (age 64)</td>\n",
       "      <td>1958-06-17</td>\n",
       "      <td>64</td>\n",
       "      <td>[Alabama]</td>\n",
       "    </tr>\n",
       "    <tr>\n",
       "      <th>1</th>\n",
       "      <td>Alabama 2</td>\n",
       "      <td>Barry Moore</td>\n",
       "      <td>Republican</td>\n",
       "      <td>Alabama House of Representatives</td>\n",
       "      <td>Enterprise State Community College (AS)\\nAubur...</td>\n",
       "      <td>2021</td>\n",
       "      <td>Enterprise</td>\n",
       "      <td>September 26, 1966 (age 55)</td>\n",
       "      <td>1966-09-26</td>\n",
       "      <td>55</td>\n",
       "      <td>[Alabama]</td>\n",
       "    </tr>\n",
       "    <tr>\n",
       "      <th>2</th>\n",
       "      <td>Alabama 3</td>\n",
       "      <td>Mike Rogers</td>\n",
       "      <td>Republican</td>\n",
       "      <td>Alabama House of Representatives</td>\n",
       "      <td>Jacksonville State University (BA, MPA)\\nBirmi...</td>\n",
       "      <td>2003</td>\n",
       "      <td>Anniston</td>\n",
       "      <td>July 16, 1958 (age 64)</td>\n",
       "      <td>1958-07-16</td>\n",
       "      <td>64</td>\n",
       "      <td>[Alabama]</td>\n",
       "    </tr>\n",
       "    <tr>\n",
       "      <th>3</th>\n",
       "      <td>Alabama 4</td>\n",
       "      <td>Robert Aderholt</td>\n",
       "      <td>Republican</td>\n",
       "      <td>Haleyville Municipal Judge</td>\n",
       "      <td>University of North Alabama\\nBirmingham–Southe...</td>\n",
       "      <td>1997</td>\n",
       "      <td>Haleyville</td>\n",
       "      <td>July 22, 1965 (age 57)</td>\n",
       "      <td>1965-07-22</td>\n",
       "      <td>57</td>\n",
       "      <td>[Alabama]</td>\n",
       "    </tr>\n",
       "    <tr>\n",
       "      <th>4</th>\n",
       "      <td>Alabama 5</td>\n",
       "      <td>Mo Brooks</td>\n",
       "      <td>Republican</td>\n",
       "      <td>Madison County Commissioner</td>\n",
       "      <td>Duke University (BA)\\nUniversity of Alabama (JD)</td>\n",
       "      <td>2011</td>\n",
       "      <td>Huntsville</td>\n",
       "      <td>April 29, 1954 (age 68)</td>\n",
       "      <td>1954-04-29</td>\n",
       "      <td>68</td>\n",
       "      <td>[Alabama]</td>\n",
       "    </tr>\n",
       "  </tbody>\n",
       "</table>\n",
       "</div>"
      ],
      "text/plain": [
       "    district             name       party                  prior_experience  \\\n",
       "0  Alabama 1       Jerry Carl  Republican         Mobile County Commission    \n",
       "1  Alabama 2      Barry Moore  Republican  Alabama House of Representatives   \n",
       "2  Alabama 3      Mike Rogers  Republican  Alabama House of Representatives   \n",
       "3  Alabama 4  Robert Aderholt  Republican       Haleyville Municipal Judge    \n",
       "4  Alabama 5        Mo Brooks  Republican      Madison County Commissioner    \n",
       "\n",
       "                                           education assumed_office  \\\n",
       "0                            Florida Gateway College           2021   \n",
       "1  Enterprise State Community College (AS)\\nAubur...           2021   \n",
       "2  Jacksonville State University (BA, MPA)\\nBirmi...           2003   \n",
       "3  University of North Alabama\\nBirmingham–Southe...           1997   \n",
       "4   Duke University (BA)\\nUniversity of Alabama (JD)           2011   \n",
       "\n",
       "    residence                         born clean_born  age test_state  \n",
       "0      Mobile       June 17, 1958 (age 64) 1958-06-17   64  [Alabama]  \n",
       "1  Enterprise  September 26, 1966 (age 55) 1966-09-26   55  [Alabama]  \n",
       "2   Anniston        July 16, 1958 (age 64) 1958-07-16   64  [Alabama]  \n",
       "3  Haleyville       July 22, 1965 (age 57) 1965-07-22   57  [Alabama]  \n",
       "4  Huntsville      April 29, 1954 (age 68) 1954-04-29   68  [Alabama]  "
      ]
     },
     "execution_count": 207,
     "metadata": {},
     "output_type": "execute_result"
    }
   ],
   "source": [
    "df.head()"
   ]
  },
  {
   "cell_type": "code",
   "execution_count": 208,
   "id": "6a707cfc-a415-4ff2-b4b9-e9f5ad4ce87d",
   "metadata": {},
   "outputs": [
    {
     "data": {
      "text/html": [
       "<div>\n",
       "<style scoped>\n",
       "    .dataframe tbody tr th:only-of-type {\n",
       "        vertical-align: middle;\n",
       "    }\n",
       "\n",
       "    .dataframe tbody tr th {\n",
       "        vertical-align: top;\n",
       "    }\n",
       "\n",
       "    .dataframe thead th {\n",
       "        text-align: right;\n",
       "    }\n",
       "</style>\n",
       "<table border=\"1\" class=\"dataframe\">\n",
       "  <thead>\n",
       "    <tr style=\"text-align: right;\">\n",
       "      <th></th>\n",
       "      <th>district</th>\n",
       "      <th>name</th>\n",
       "      <th>party</th>\n",
       "      <th>prior_experience</th>\n",
       "      <th>education</th>\n",
       "      <th>assumed_office</th>\n",
       "      <th>residence</th>\n",
       "      <th>born</th>\n",
       "      <th>clean_born</th>\n",
       "      <th>age</th>\n",
       "      <th>test_state</th>\n",
       "      <th>clean_state</th>\n",
       "    </tr>\n",
       "  </thead>\n",
       "  <tbody>\n",
       "    <tr>\n",
       "      <th>0</th>\n",
       "      <td>Alabama 1</td>\n",
       "      <td>Jerry Carl</td>\n",
       "      <td>Republican</td>\n",
       "      <td>Mobile County Commission</td>\n",
       "      <td>Florida Gateway College</td>\n",
       "      <td>2021</td>\n",
       "      <td>Mobile</td>\n",
       "      <td>June 17, 1958 (age 64)</td>\n",
       "      <td>1958-06-17</td>\n",
       "      <td>64</td>\n",
       "      <td>[Alabama]</td>\n",
       "      <td>Alabama</td>\n",
       "    </tr>\n",
       "    <tr>\n",
       "      <th>1</th>\n",
       "      <td>Alabama 2</td>\n",
       "      <td>Barry Moore</td>\n",
       "      <td>Republican</td>\n",
       "      <td>Alabama House of Representatives</td>\n",
       "      <td>Enterprise State Community College (AS)\\nAubur...</td>\n",
       "      <td>2021</td>\n",
       "      <td>Enterprise</td>\n",
       "      <td>September 26, 1966 (age 55)</td>\n",
       "      <td>1966-09-26</td>\n",
       "      <td>55</td>\n",
       "      <td>[Alabama]</td>\n",
       "      <td>Alabama</td>\n",
       "    </tr>\n",
       "    <tr>\n",
       "      <th>2</th>\n",
       "      <td>Alabama 3</td>\n",
       "      <td>Mike Rogers</td>\n",
       "      <td>Republican</td>\n",
       "      <td>Alabama House of Representatives</td>\n",
       "      <td>Jacksonville State University (BA, MPA)\\nBirmi...</td>\n",
       "      <td>2003</td>\n",
       "      <td>Anniston</td>\n",
       "      <td>July 16, 1958 (age 64)</td>\n",
       "      <td>1958-07-16</td>\n",
       "      <td>64</td>\n",
       "      <td>[Alabama]</td>\n",
       "      <td>Alabama</td>\n",
       "    </tr>\n",
       "    <tr>\n",
       "      <th>3</th>\n",
       "      <td>Alabama 4</td>\n",
       "      <td>Robert Aderholt</td>\n",
       "      <td>Republican</td>\n",
       "      <td>Haleyville Municipal Judge</td>\n",
       "      <td>University of North Alabama\\nBirmingham–Southe...</td>\n",
       "      <td>1997</td>\n",
       "      <td>Haleyville</td>\n",
       "      <td>July 22, 1965 (age 57)</td>\n",
       "      <td>1965-07-22</td>\n",
       "      <td>57</td>\n",
       "      <td>[Alabama]</td>\n",
       "      <td>Alabama</td>\n",
       "    </tr>\n",
       "    <tr>\n",
       "      <th>4</th>\n",
       "      <td>Alabama 5</td>\n",
       "      <td>Mo Brooks</td>\n",
       "      <td>Republican</td>\n",
       "      <td>Madison County Commissioner</td>\n",
       "      <td>Duke University (BA)\\nUniversity of Alabama (JD)</td>\n",
       "      <td>2011</td>\n",
       "      <td>Huntsville</td>\n",
       "      <td>April 29, 1954 (age 68)</td>\n",
       "      <td>1954-04-29</td>\n",
       "      <td>68</td>\n",
       "      <td>[Alabama]</td>\n",
       "      <td>Alabama</td>\n",
       "    </tr>\n",
       "  </tbody>\n",
       "</table>\n",
       "</div>"
      ],
      "text/plain": [
       "    district             name       party                  prior_experience  \\\n",
       "0  Alabama 1       Jerry Carl  Republican         Mobile County Commission    \n",
       "1  Alabama 2      Barry Moore  Republican  Alabama House of Representatives   \n",
       "2  Alabama 3      Mike Rogers  Republican  Alabama House of Representatives   \n",
       "3  Alabama 4  Robert Aderholt  Republican       Haleyville Municipal Judge    \n",
       "4  Alabama 5        Mo Brooks  Republican      Madison County Commissioner    \n",
       "\n",
       "                                           education assumed_office  \\\n",
       "0                            Florida Gateway College           2021   \n",
       "1  Enterprise State Community College (AS)\\nAubur...           2021   \n",
       "2  Jacksonville State University (BA, MPA)\\nBirmi...           2003   \n",
       "3  University of North Alabama\\nBirmingham–Southe...           1997   \n",
       "4   Duke University (BA)\\nUniversity of Alabama (JD)           2011   \n",
       "\n",
       "    residence                         born clean_born  age test_state  \\\n",
       "0      Mobile       June 17, 1958 (age 64) 1958-06-17   64  [Alabama]   \n",
       "1  Enterprise  September 26, 1966 (age 55) 1966-09-26   55  [Alabama]   \n",
       "2   Anniston        July 16, 1958 (age 64) 1958-07-16   64  [Alabama]   \n",
       "3  Haleyville       July 22, 1965 (age 57) 1965-07-22   57  [Alabama]   \n",
       "4  Huntsville      April 29, 1954 (age 68) 1954-04-29   68  [Alabama]   \n",
       "\n",
       "  clean_state  \n",
       "0     Alabama  \n",
       "1     Alabama  \n",
       "2     Alabama  \n",
       "3     Alabama  \n",
       "4     Alabama  "
      ]
     },
     "execution_count": 208,
     "metadata": {},
     "output_type": "execute_result"
    }
   ],
   "source": [
    "#Pull state name string out of test_state array\n",
    "df['clean_state'] = df['test_state'].str[0]\n",
    "df.head()"
   ]
  },
  {
   "cell_type": "code",
   "execution_count": 209,
   "id": "05cdc1ea-494a-44d1-a149-59ecfc22c79f",
   "metadata": {},
   "outputs": [],
   "source": [
    "#Get rid of old state name column\n",
    "df.drop('test_state', inplace=True, axis=1)"
   ]
  },
  {
   "cell_type": "code",
   "execution_count": 221,
   "id": "41da017a-1ebc-40af-9494-7c43cd5e3472",
   "metadata": {},
   "outputs": [
    {
     "data": {
      "text/html": [
       "<div>\n",
       "<style scoped>\n",
       "    .dataframe tbody tr th:only-of-type {\n",
       "        vertical-align: middle;\n",
       "    }\n",
       "\n",
       "    .dataframe tbody tr th {\n",
       "        vertical-align: top;\n",
       "    }\n",
       "\n",
       "    .dataframe thead th {\n",
       "        text-align: right;\n",
       "    }\n",
       "</style>\n",
       "<table border=\"1\" class=\"dataframe\">\n",
       "  <thead>\n",
       "    <tr style=\"text-align: right;\">\n",
       "      <th></th>\n",
       "      <th>age</th>\n",
       "      <th>age_range</th>\n",
       "    </tr>\n",
       "  </thead>\n",
       "  <tbody>\n",
       "    <tr>\n",
       "      <th>170</th>\n",
       "      <td>51</td>\n",
       "      <td>45-54</td>\n",
       "    </tr>\n",
       "  </tbody>\n",
       "</table>\n",
       "</div>"
      ],
      "text/plain": [
       "     age age_range\n",
       "170   51     45-54"
      ]
     },
     "execution_count": 221,
     "metadata": {},
     "output_type": "execute_result"
    }
   ],
   "source": [
    "#Create cut bins\n",
    "mybins=[25,35,45,55,65,75,85,100]\n",
    "\n",
    "# Create some labels for the new variable\n",
    "mylabels=['25-34', '35-44', '45-54', '55-64', '65-74', '75-84', '85+']\n",
    "# Use the .cut method to create a new variable using those cut points and labels.\n",
    "df['age_range']=pd.cut(df['age'], bins=mybins, labels=mylabels)\n",
    "# Check it out!\n",
    "df[['age', 'age_range']].sample()"
   ]
  },
  {
   "cell_type": "code",
   "execution_count": 219,
   "id": "8960b41c-b9d3-4043-a2c4-37012c589111",
   "metadata": {},
   "outputs": [
    {
     "data": {
      "text/html": [
       "<div>\n",
       "<style scoped>\n",
       "    .dataframe tbody tr th:only-of-type {\n",
       "        vertical-align: middle;\n",
       "    }\n",
       "\n",
       "    .dataframe tbody tr th {\n",
       "        vertical-align: top;\n",
       "    }\n",
       "\n",
       "    .dataframe thead th {\n",
       "        text-align: right;\n",
       "    }\n",
       "</style>\n",
       "<table border=\"1\" class=\"dataframe\">\n",
       "  <thead>\n",
       "    <tr style=\"text-align: right;\">\n",
       "      <th></th>\n",
       "      <th>district</th>\n",
       "      <th>name</th>\n",
       "      <th>party</th>\n",
       "      <th>prior_experience</th>\n",
       "      <th>education</th>\n",
       "      <th>assumed_office</th>\n",
       "      <th>residence</th>\n",
       "      <th>born</th>\n",
       "      <th>clean_born</th>\n",
       "      <th>age</th>\n",
       "      <th>clean_state</th>\n",
       "      <th>age_range</th>\n",
       "    </tr>\n",
       "  </thead>\n",
       "  <tbody>\n",
       "    <tr>\n",
       "      <th>0</th>\n",
       "      <td>Alabama 1</td>\n",
       "      <td>Jerry Carl</td>\n",
       "      <td>Republican</td>\n",
       "      <td>Mobile County Commission</td>\n",
       "      <td>Florida Gateway College</td>\n",
       "      <td>2021</td>\n",
       "      <td>Mobile</td>\n",
       "      <td>June 17, 1958 (age 64)</td>\n",
       "      <td>1958-06-17</td>\n",
       "      <td>64</td>\n",
       "      <td>Alabama</td>\n",
       "      <td>55-64</td>\n",
       "    </tr>\n",
       "    <tr>\n",
       "      <th>1</th>\n",
       "      <td>Alabama 2</td>\n",
       "      <td>Barry Moore</td>\n",
       "      <td>Republican</td>\n",
       "      <td>Alabama House of Representatives</td>\n",
       "      <td>Enterprise State Community College (AS)\\nAubur...</td>\n",
       "      <td>2021</td>\n",
       "      <td>Enterprise</td>\n",
       "      <td>September 26, 1966 (age 55)</td>\n",
       "      <td>1966-09-26</td>\n",
       "      <td>55</td>\n",
       "      <td>Alabama</td>\n",
       "      <td>45-54</td>\n",
       "    </tr>\n",
       "    <tr>\n",
       "      <th>2</th>\n",
       "      <td>Alabama 3</td>\n",
       "      <td>Mike Rogers</td>\n",
       "      <td>Republican</td>\n",
       "      <td>Alabama House of Representatives</td>\n",
       "      <td>Jacksonville State University (BA, MPA)\\nBirmi...</td>\n",
       "      <td>2003</td>\n",
       "      <td>Anniston</td>\n",
       "      <td>July 16, 1958 (age 64)</td>\n",
       "      <td>1958-07-16</td>\n",
       "      <td>64</td>\n",
       "      <td>Alabama</td>\n",
       "      <td>55-64</td>\n",
       "    </tr>\n",
       "    <tr>\n",
       "      <th>3</th>\n",
       "      <td>Alabama 4</td>\n",
       "      <td>Robert Aderholt</td>\n",
       "      <td>Republican</td>\n",
       "      <td>Haleyville Municipal Judge</td>\n",
       "      <td>University of North Alabama\\nBirmingham–Southe...</td>\n",
       "      <td>1997</td>\n",
       "      <td>Haleyville</td>\n",
       "      <td>July 22, 1965 (age 57)</td>\n",
       "      <td>1965-07-22</td>\n",
       "      <td>57</td>\n",
       "      <td>Alabama</td>\n",
       "      <td>55-64</td>\n",
       "    </tr>\n",
       "    <tr>\n",
       "      <th>4</th>\n",
       "      <td>Alabama 5</td>\n",
       "      <td>Mo Brooks</td>\n",
       "      <td>Republican</td>\n",
       "      <td>Madison County Commissioner</td>\n",
       "      <td>Duke University (BA)\\nUniversity of Alabama (JD)</td>\n",
       "      <td>2011</td>\n",
       "      <td>Huntsville</td>\n",
       "      <td>April 29, 1954 (age 68)</td>\n",
       "      <td>1954-04-29</td>\n",
       "      <td>68</td>\n",
       "      <td>Alabama</td>\n",
       "      <td>65-74</td>\n",
       "    </tr>\n",
       "  </tbody>\n",
       "</table>\n",
       "</div>"
      ],
      "text/plain": [
       "    district             name       party                  prior_experience  \\\n",
       "0  Alabama 1       Jerry Carl  Republican         Mobile County Commission    \n",
       "1  Alabama 2      Barry Moore  Republican  Alabama House of Representatives   \n",
       "2  Alabama 3      Mike Rogers  Republican  Alabama House of Representatives   \n",
       "3  Alabama 4  Robert Aderholt  Republican       Haleyville Municipal Judge    \n",
       "4  Alabama 5        Mo Brooks  Republican      Madison County Commissioner    \n",
       "\n",
       "                                           education assumed_office  \\\n",
       "0                            Florida Gateway College           2021   \n",
       "1  Enterprise State Community College (AS)\\nAubur...           2021   \n",
       "2  Jacksonville State University (BA, MPA)\\nBirmi...           2003   \n",
       "3  University of North Alabama\\nBirmingham–Southe...           1997   \n",
       "4   Duke University (BA)\\nUniversity of Alabama (JD)           2011   \n",
       "\n",
       "    residence                         born clean_born  age clean_state  \\\n",
       "0      Mobile       June 17, 1958 (age 64) 1958-06-17   64     Alabama   \n",
       "1  Enterprise  September 26, 1966 (age 55) 1966-09-26   55     Alabama   \n",
       "2   Anniston        July 16, 1958 (age 64) 1958-07-16   64     Alabama   \n",
       "3  Haleyville       July 22, 1965 (age 57) 1965-07-22   57     Alabama   \n",
       "4  Huntsville      April 29, 1954 (age 68) 1954-04-29   68     Alabama   \n",
       "\n",
       "  age_range  \n",
       "0     55-64  \n",
       "1     45-54  \n",
       "2     55-64  \n",
       "3     55-64  \n",
       "4     65-74  "
      ]
     },
     "execution_count": 219,
     "metadata": {},
     "output_type": "execute_result"
    }
   ],
   "source": [
    "df.head()"
   ]
  },
  {
   "cell_type": "code",
   "execution_count": 222,
   "id": "02db7c96-17eb-4918-aebe-6ce5a7a0f16d",
   "metadata": {},
   "outputs": [
    {
     "data": {
      "text/html": [
       "<div>\n",
       "<style scoped>\n",
       "    .dataframe tbody tr th:only-of-type {\n",
       "        vertical-align: middle;\n",
       "    }\n",
       "\n",
       "    .dataframe tbody tr th {\n",
       "        vertical-align: top;\n",
       "    }\n",
       "\n",
       "    .dataframe thead th {\n",
       "        text-align: right;\n",
       "    }\n",
       "</style>\n",
       "<table border=\"1\" class=\"dataframe\">\n",
       "  <thead>\n",
       "    <tr style=\"text-align: right;\">\n",
       "      <th></th>\n",
       "      <th>district</th>\n",
       "      <th>name</th>\n",
       "      <th>party</th>\n",
       "      <th>prior_experience</th>\n",
       "      <th>education</th>\n",
       "      <th>assumed_office</th>\n",
       "      <th>residence</th>\n",
       "      <th>born</th>\n",
       "      <th>clean_born</th>\n",
       "      <th>age</th>\n",
       "      <th>clean_state</th>\n",
       "      <th>age_range</th>\n",
       "    </tr>\n",
       "  </thead>\n",
       "  <tbody>\n",
       "    <tr>\n",
       "      <th>7</th>\n",
       "      <td>Alaska at-large</td>\n",
       "      <td>None</td>\n",
       "      <td>None</td>\n",
       "      <td>None</td>\n",
       "      <td>None</td>\n",
       "      <td>0</td>\n",
       "      <td>None</td>\n",
       "      <td>0</td>\n",
       "      <td>2022-09-07</td>\n",
       "      <td>0</td>\n",
       "      <td>Alaska</td>\n",
       "      <td>NaN</td>\n",
       "    </tr>\n",
       "    <tr>\n",
       "      <th>212</th>\n",
       "      <td>Minnesota 1</td>\n",
       "      <td>None</td>\n",
       "      <td>None</td>\n",
       "      <td>None</td>\n",
       "      <td>None</td>\n",
       "      <td>0</td>\n",
       "      <td>None</td>\n",
       "      <td>0</td>\n",
       "      <td>2022-09-07</td>\n",
       "      <td>0</td>\n",
       "      <td>Minnesota</td>\n",
       "      <td>NaN</td>\n",
       "    </tr>\n",
       "    <tr>\n",
       "      <th>275</th>\n",
       "      <td>New York 19</td>\n",
       "      <td>None</td>\n",
       "      <td>None</td>\n",
       "      <td>None</td>\n",
       "      <td>None</td>\n",
       "      <td>0</td>\n",
       "      <td>None</td>\n",
       "      <td>0</td>\n",
       "      <td>2022-09-07</td>\n",
       "      <td>0</td>\n",
       "      <td>New York</td>\n",
       "      <td>NaN</td>\n",
       "    </tr>\n",
       "    <tr>\n",
       "      <th>279</th>\n",
       "      <td>New York 23</td>\n",
       "      <td>None</td>\n",
       "      <td>None</td>\n",
       "      <td>None</td>\n",
       "      <td>None</td>\n",
       "      <td>0</td>\n",
       "      <td>None</td>\n",
       "      <td>0</td>\n",
       "      <td>2022-09-07</td>\n",
       "      <td>0</td>\n",
       "      <td>New York</td>\n",
       "      <td>NaN</td>\n",
       "    </tr>\n",
       "  </tbody>\n",
       "</table>\n",
       "</div>"
      ],
      "text/plain": [
       "            district  name party prior_experience education assumed_office  \\\n",
       "7    Alaska at-large  None  None             None      None              0   \n",
       "212      Minnesota 1  None  None             None      None              0   \n",
       "275      New York 19  None  None             None      None              0   \n",
       "279      New York 23  None  None             None      None              0   \n",
       "\n",
       "    residence born clean_born  age clean_state age_range  \n",
       "7        None    0 2022-09-07    0      Alaska       NaN  \n",
       "212      None    0 2022-09-07    0   Minnesota       NaN  \n",
       "275      None    0 2022-09-07    0    New York       NaN  \n",
       "279      None    0 2022-09-07    0    New York       NaN  "
      ]
     },
     "execution_count": 222,
     "metadata": {},
     "output_type": "execute_result"
    }
   ],
   "source": [
    "df[df['age'] == 0]"
   ]
  },
  {
   "cell_type": "code",
   "execution_count": 16,
   "id": "a2d1bca2-c7d6-4835-8125-22c2425bc5c2",
   "metadata": {},
   "outputs": [],
   "source": [
    "df.to_csv('../data-science-project-8/sources/us-house-117.csv')"
   ]
  },
  {
   "cell_type": "code",
   "execution_count": 212,
   "id": "2b4a3066-00f5-4b3d-ae68-3cb62564d157",
   "metadata": {},
   "outputs": [
    {
     "data": {
      "text/html": [
       "<div>\n",
       "<style scoped>\n",
       "    .dataframe tbody tr th:only-of-type {\n",
       "        vertical-align: middle;\n",
       "    }\n",
       "\n",
       "    .dataframe tbody tr th {\n",
       "        vertical-align: top;\n",
       "    }\n",
       "\n",
       "    .dataframe thead th {\n",
       "        text-align: right;\n",
       "    }\n",
       "</style>\n",
       "<table border=\"1\" class=\"dataframe\">\n",
       "  <thead>\n",
       "    <tr style=\"text-align: right;\">\n",
       "      <th>party</th>\n",
       "      <th>age_range</th>\n",
       "      <th>Democratic</th>\n",
       "      <th>None</th>\n",
       "      <th>Republican</th>\n",
       "    </tr>\n",
       "  </thead>\n",
       "  <tbody>\n",
       "    <tr>\n",
       "      <th>0</th>\n",
       "      <td>25-34</td>\n",
       "      <td>6</td>\n",
       "      <td>0</td>\n",
       "      <td>5</td>\n",
       "    </tr>\n",
       "    <tr>\n",
       "      <th>1</th>\n",
       "      <td>35-44</td>\n",
       "      <td>25</td>\n",
       "      <td>0</td>\n",
       "      <td>33</td>\n",
       "    </tr>\n",
       "    <tr>\n",
       "      <th>2</th>\n",
       "      <td>45-54</td>\n",
       "      <td>41</td>\n",
       "      <td>0</td>\n",
       "      <td>43</td>\n",
       "    </tr>\n",
       "    <tr>\n",
       "      <th>3</th>\n",
       "      <td>55-64</td>\n",
       "      <td>57</td>\n",
       "      <td>0</td>\n",
       "      <td>79</td>\n",
       "    </tr>\n",
       "    <tr>\n",
       "      <th>4</th>\n",
       "      <td>65-74</td>\n",
       "      <td>65</td>\n",
       "      <td>0</td>\n",
       "      <td>46</td>\n",
       "    </tr>\n",
       "    <tr>\n",
       "      <th>5</th>\n",
       "      <td>75-84</td>\n",
       "      <td>25</td>\n",
       "      <td>0</td>\n",
       "      <td>5</td>\n",
       "    </tr>\n",
       "    <tr>\n",
       "      <th>6</th>\n",
       "      <td>85+</td>\n",
       "      <td>1</td>\n",
       "      <td>0</td>\n",
       "      <td>0</td>\n",
       "    </tr>\n",
       "  </tbody>\n",
       "</table>\n",
       "</div>"
      ],
      "text/plain": [
       "party age_range  Democratic  None  Republican\n",
       "0         25-34           6     0           5\n",
       "1         35-44          25     0          33\n",
       "2         45-54          41     0          43\n",
       "3         55-64          57     0          79\n",
       "4         65-74          65     0          46\n",
       "5         75-84          25     0           5\n",
       "6           85+           1     0           0"
      ]
     },
     "execution_count": 212,
     "metadata": {},
     "output_type": "execute_result"
    }
   ],
   "source": [
    "#Data frame with count of reps by age range\n",
    "df2 = df.groupby(['age_range', 'party'])['name'].count()\n",
    "df2 = df2.unstack(level=-1)\n",
    "df2.reset_index(level=0, inplace=True)\n",
    "df2.head(25)"
   ]
  },
  {
   "cell_type": "code",
   "execution_count": 213,
   "id": "f2fc537b-d97d-4dfa-b562-998cf40e3e9b",
   "metadata": {},
   "outputs": [
    {
     "data": {
      "text/html": [
       "<div>\n",
       "<style scoped>\n",
       "    .dataframe tbody tr th:only-of-type {\n",
       "        vertical-align: middle;\n",
       "    }\n",
       "\n",
       "    .dataframe tbody tr th {\n",
       "        vertical-align: top;\n",
       "    }\n",
       "\n",
       "    .dataframe thead th {\n",
       "        text-align: right;\n",
       "    }\n",
       "</style>\n",
       "<table border=\"1\" class=\"dataframe\">\n",
       "  <thead>\n",
       "    <tr style=\"text-align: right;\">\n",
       "      <th></th>\n",
       "      <th>DataType</th>\n",
       "    </tr>\n",
       "    <tr>\n",
       "      <th>party</th>\n",
       "      <th></th>\n",
       "    </tr>\n",
       "  </thead>\n",
       "  <tbody>\n",
       "    <tr>\n",
       "      <th>age_range</th>\n",
       "      <td>category</td>\n",
       "    </tr>\n",
       "    <tr>\n",
       "      <th>Democratic</th>\n",
       "      <td>int64</td>\n",
       "    </tr>\n",
       "    <tr>\n",
       "      <th>None</th>\n",
       "      <td>int64</td>\n",
       "    </tr>\n",
       "    <tr>\n",
       "      <th>Republican</th>\n",
       "      <td>int64</td>\n",
       "    </tr>\n",
       "  </tbody>\n",
       "</table>\n",
       "</div>"
      ],
      "text/plain": [
       "            DataType\n",
       "party               \n",
       "age_range   category\n",
       "Democratic     int64\n",
       "None           int64\n",
       "Republican     int64"
      ]
     },
     "execution_count": 213,
     "metadata": {},
     "output_type": "execute_result"
    }
   ],
   "source": [
    "pd.DataFrame(df2.dtypes, columns=[\"DataType\"])"
   ]
  },
  {
   "cell_type": "code",
   "execution_count": 41,
   "id": "8fcad62f-1922-4a92-a2b0-04e0ff47d736",
   "metadata": {},
   "outputs": [],
   "source": [
    "#Save ages dataframe to csv\n",
    "df2.to_csv('../data-science-project-8/sources/us-house-117-ages.csv')"
   ]
  },
  {
   "cell_type": "code",
   "execution_count": 214,
   "id": "7188d19c-5c2b-42d6-8892-02552c4296dc",
   "metadata": {},
   "outputs": [
    {
     "data": {
      "image/png": "[encoded data removed]",
      "text/plain": [
       "<Figure size 432x288 with 1 Axes>"
      ]
     },
     "metadata": {
      "needs_background": "light"
     },
     "output_type": "display_data"
    }
   ],
   "source": [
    "#Group bar chart of age ranges\n",
    "fig = df2.plot(x='age_range', y=['Democratic', 'Republican'], kind='bar');"
   ]
  },
  {
   "cell_type": "code",
   "execution_count": 123,
   "id": "fd945672-4146-4f8e-939b-fcc616a0a37b",
   "metadata": {},
   "outputs": [
    {
     "data": {
      "text/html": [
       "<div>\n",
       "<style scoped>\n",
       "    .dataframe tbody tr th:only-of-type {\n",
       "        vertical-align: middle;\n",
       "    }\n",
       "\n",
       "    .dataframe tbody tr th {\n",
       "        vertical-align: top;\n",
       "    }\n",
       "\n",
       "    .dataframe thead th {\n",
       "        text-align: right;\n",
       "    }\n",
       "</style>\n",
       "<table border=\"1\" class=\"dataframe\">\n",
       "  <thead>\n",
       "    <tr style=\"text-align: right;\">\n",
       "      <th>party</th>\n",
       "      <th>age_range</th>\n",
       "      <th>Democratic</th>\n",
       "      <th>None</th>\n",
       "      <th>Republican</th>\n",
       "    </tr>\n",
       "  </thead>\n",
       "  <tbody>\n",
       "    <tr>\n",
       "      <th>0</th>\n",
       "      <td>25-34</td>\n",
       "      <td>3</td>\n",
       "      <td>0</td>\n",
       "      <td>0</td>\n",
       "    </tr>\n",
       "    <tr>\n",
       "      <th>1</th>\n",
       "      <td>35-44</td>\n",
       "      <td>0</td>\n",
       "      <td>0</td>\n",
       "      <td>4</td>\n",
       "    </tr>\n",
       "    <tr>\n",
       "      <th>2</th>\n",
       "      <td>45-54</td>\n",
       "      <td>3</td>\n",
       "      <td>0</td>\n",
       "      <td>1</td>\n",
       "    </tr>\n",
       "    <tr>\n",
       "      <th>3</th>\n",
       "      <td>55-64</td>\n",
       "      <td>6</td>\n",
       "      <td>0</td>\n",
       "      <td>2</td>\n",
       "    </tr>\n",
       "    <tr>\n",
       "      <th>4</th>\n",
       "      <td>65-74</td>\n",
       "      <td>5</td>\n",
       "      <td>0</td>\n",
       "      <td>0</td>\n",
       "    </tr>\n",
       "    <tr>\n",
       "      <th>5</th>\n",
       "      <td>75-84</td>\n",
       "      <td>1</td>\n",
       "      <td>0</td>\n",
       "      <td>0</td>\n",
       "    </tr>\n",
       "    <tr>\n",
       "      <th>6</th>\n",
       "      <td>85+</td>\n",
       "      <td>0</td>\n",
       "      <td>0</td>\n",
       "      <td>0</td>\n",
       "    </tr>\n",
       "  </tbody>\n",
       "</table>\n",
       "</div>"
      ],
      "text/plain": [
       "party age_range  Democratic  None  Republican\n",
       "0         25-34           3     0           0\n",
       "1         35-44           0     0           4\n",
       "2         45-54           3     0           1\n",
       "3         55-64           6     0           2\n",
       "4         65-74           5     0           0\n",
       "5         75-84           1     0           0\n",
       "6           85+           0     0           0"
      ]
     },
     "execution_count": 123,
     "metadata": {},
     "output_type": "execute_result"
    }
   ],
   "source": [
    "#filter on a specific state\n",
    "df3 = df[df['clean_state'] == 'New York'].groupby(['age_range', 'party'])['name'].count()\n",
    "df3 = df3.unstack(level=-1)\n",
    "df3.reset_index(level=0, inplace=True)\n",
    "df3.head(25)"
   ]
  },
  {
   "cell_type": "code",
   "execution_count": 124,
   "id": "027894f4-2cc9-4377-81a6-79a0a92a1a6f",
   "metadata": {},
   "outputs": [
    {
     "data": {
      "image/png": "[encoded data removed]",
      "text/plain": [
       "<Figure size 432x288 with 1 Axes>"
      ]
     },
     "metadata": {
      "needs_background": "light"
     },
     "output_type": "display_data"
    }
   ],
   "source": [
    "df3.plot(x='age_range', y=['Democratic', 'Republican'], kind='bar');"
   ]
  },
  {
   "cell_type": "code",
   "execution_count": 95,
   "id": "1fd3b383-f616-46c8-9a0c-aaf3ac6c3b76",
   "metadata": {},
   "outputs": [
    {
     "data": {
      "application/vnd.plotly.v1+json": {
       "config": {
        "plotlyServerURL": "https://plot.ly"
       },
       "data": [
        {
         "alignmentgroup": "True",
         "hovertemplate": "variable=Democratic<br>age_range=%{x}<br>value=%{y}<extra></extra>",
         "legendgroup": "Democratic",
         "marker": {
          "color": "#636efa",
          "pattern": {
           "shape": ""
          }
         },
         "name": "Democratic",
         "offsetgroup": "Democratic",
         "orientation": "v",
         "showlegend": true,
         "textposition": "auto",
         "type": "bar",
         "x": [
          "25-34",
          "35-44",
          "45-54",
          "55-64",
          "65-74",
          "75-84",
          "85+"
         ],
         "xaxis": "x",
         "y": [
          6,
          25,
          41,
          57,
          65,
          25,
          1
         ],
         "yaxis": "y"
        },
        {
         "alignmentgroup": "True",
         "hovertemplate": "variable=Republican<br>age_range=%{x}<br>value=%{y}<extra></extra>",
         "legendgroup": "Republican",
         "marker": {
          "color": "#EF553B",
          "pattern": {
           "shape": ""
          }
         },
         "name": "Republican",
         "offsetgroup": "Republican",
         "orientation": "v",
         "showlegend": true,
         "textposition": "auto",
         "type": "bar",
         "x": [
          "25-34",
          "35-44",
          "45-54",
          "55-64",
          "65-74",
          "75-84",
          "85+"
         ],
         "xaxis": "x",
         "y": [
          5,
          33,
          43,
          79,
          46,
          5,
          0
         ],
         "yaxis": "y"
        }
       ],
       "layout": {
        "autosize": true,
        "barmode": "group",
        "legend": {
         "title": {
          "text": "variable"
         },
         "tracegroupgap": 0
        },
        "margin": {
         "t": 60
        },
        "template": {
         "data": {
          "bar": [
           {
            "error_x": {
             "color": "#2a3f5f"
            },
            "error_y": {
             "color": "#2a3f5f"
            },
            "marker": {
             "line": {
              "color": "#E5ECF6",
              "width": 0.5
             },
             "pattern": {
              "fillmode": "overlay",
              "size": 10,
              "solidity": 0.2
             }
            },
            "type": "bar"
           }
          ],
          "barpolar": [
           {
            "marker": {
             "line": {
              "color": "#E5ECF6",
              "width": 0.5
             },
             "pattern": {
              "fillmode": "overlay",
              "size": 10,
              "solidity": 0.2
             }
            },
            "type": "barpolar"
           }
          ],
          "carpet": [
           {
            "aaxis": {
             "endlinecolor": "#2a3f5f",
             "gridcolor": "white",
             "linecolor": "white",
             "minorgridcolor": "white",
             "startlinecolor": "#2a3f5f"
            },
            "baxis": {
             "endlinecolor": "#2a3f5f",
             "gridcolor": "white",
             "linecolor": "white",
             "minorgridcolor": "white",
             "startlinecolor": "#2a3f5f"
            },
            "type": "carpet"
           }
          ],
          "choropleth": [
           {
            "colorbar": {
             "outlinewidth": 0,
             "ticks": ""
            },
            "type": "choropleth"
           }
          ],
          "contour": [
           {
            "colorbar": {
             "outlinewidth": 0,
             "ticks": ""
            },
            "colorscale": [
             [
              0,
              "#0d0887"
             ],
             [
              0.1111111111111111,
              "#46039f"
             ],
             [
              0.2222222222222222,
              "#7201a8"
             ],
             [
              0.3333333333333333,
              "#9c179e"
             ],
             [
              0.4444444444444444,
              "#bd3786"
             ],
             [
              0.5555555555555556,
              "#d8576b"
             ],
             [
              0.6666666666666666,
              "#ed7953"
             ],
             [
              0.7777777777777778,
              "#fb9f3a"
             ],
             [
              0.8888888888888888,
              "#fdca26"
             ],
             [
              1,
              "#f0f921"
             ]
            ],
            "type": "contour"
           }
          ],
          "contourcarpet": [
           {
            "colorbar": {
             "outlinewidth": 0,
             "ticks": ""
            },
            "type": "contourcarpet"
           }
          ],
          "heatmap": [
           {
            "colorbar": {
             "outlinewidth": 0,
             "ticks": ""
            },
            "colorscale": [
             [
              0,
              "#0d0887"
             ],
             [
              0.1111111111111111,
              "#46039f"
             ],
             [
              0.2222222222222222,
              "#7201a8"
             ],
             [
              0.3333333333333333,
              "#9c179e"
             ],
             [
              0.4444444444444444,
              "#bd3786"
             ],
             [
              0.5555555555555556,
              "#d8576b"
             ],
             [
              0.6666666666666666,
              "#ed7953"
             ],
             [
              0.7777777777777778,
              "#fb9f3a"
             ],
             [
              0.8888888888888888,
              "#fdca26"
             ],
             [
              1,
              "#f0f921"
             ]
            ],
            "type": "heatmap"
           }
          ],
          "heatmapgl": [
           {
            "colorbar": {
             "outlinewidth": 0,
             "ticks": ""
            },
            "colorscale": [
             [
              0,
              "#0d0887"
             ],
             [
              0.1111111111111111,
              "#46039f"
             ],
             [
              0.2222222222222222,
              "#7201a8"
             ],
             [
              0.3333333333333333,
              "#9c179e"
             ],
             [
              0.4444444444444444,
              "#bd3786"
             ],
             [
              0.5555555555555556,
              "#d8576b"
             ],
             [
              0.6666666666666666,
              "#ed7953"
             ],
             [
              0.7777777777777778,
              "#fb9f3a"
             ],
             [
              0.8888888888888888,
              "#fdca26"
             ],
             [
              1,
              "#f0f921"
             ]
            ],
            "type": "heatmapgl"
           }
          ],
          "histogram": [
           {
            "marker": {
             "pattern": {
              "fillmode": "overlay",
              "size": 10,
              "solidity": 0.2
             }
            },
            "type": "histogram"
           }
          ],
          "histogram2d": [
           {
            "colorbar": {
             "outlinewidth": 0,
             "ticks": ""
            },
            "colorscale": [
             [
              0,
              "#0d0887"
             ],
             [
              0.1111111111111111,
              "#46039f"
             ],
             [
              0.2222222222222222,
              "#7201a8"
             ],
             [
              0.3333333333333333,
              "#9c179e"
             ],
             [
              0.4444444444444444,
              "#bd3786"
             ],
             [
              0.5555555555555556,
              "#d8576b"
             ],
             [
              0.6666666666666666,
              "#ed7953"
             ],
             [
              0.7777777777777778,
              "#fb9f3a"
             ],
             [
              0.8888888888888888,
              "#fdca26"
             ],
             [
              1,
              "#f0f921"
             ]
            ],
            "type": "histogram2d"
           }
          ],
          "histogram2dcontour": [
           {
            "colorbar": {
             "outlinewidth": 0,
             "ticks": ""
            },
            "colorscale": [
             [
              0,
              "#0d0887"
             ],
             [
              0.1111111111111111,
              "#46039f"
             ],
             [
              0.2222222222222222,
              "#7201a8"
             ],
             [
              0.3333333333333333,
              "#9c179e"
             ],
             [
              0.4444444444444444,
              "#bd3786"
             ],
             [
              0.5555555555555556,
              "#d8576b"
             ],
             [
              0.6666666666666666,
              "#ed7953"
             ],
             [
              0.7777777777777778,
              "#fb9f3a"
             ],
             [
              0.8888888888888888,
              "#fdca26"
             ],
             [
              1,
              "#f0f921"
             ]
            ],
            "type": "histogram2dcontour"
           }
          ],
          "mesh3d": [
           {
            "colorbar": {
             "outlinewidth": 0,
             "ticks": ""
            },
            "type": "mesh3d"
           }
          ],
          "parcoords": [
           {
            "line": {
             "colorbar": {
              "outlinewidth": 0,
              "ticks": ""
             }
            },
            "type": "parcoords"
           }
          ],
          "pie": [
           {
            "automargin": true,
            "type": "pie"
           }
          ],
          "scatter": [
           {
            "fillpattern": {
             "fillmode": "overlay",
             "size": 10,
             "solidity": 0.2
            },
            "type": "scatter"
           }
          ],
          "scatter3d": [
           {
            "line": {
             "colorbar": {
              "outlinewidth": 0,
              "ticks": ""
             }
            },
            "marker": {
             "colorbar": {
              "outlinewidth": 0,
              "ticks": ""
             }
            },
            "type": "scatter3d"
           }
          ],
          "scattercarpet": [
           {
            "marker": {
             "colorbar": {
              "outlinewidth": 0,
              "ticks": ""
             }
            },
            "type": "scattercarpet"
           }
          ],
          "scattergeo": [
           {
            "marker": {
             "colorbar": {
              "outlinewidth": 0,
              "ticks": ""
             }
            },
            "type": "scattergeo"
           }
          ],
          "scattergl": [
           {
            "marker": {
             "colorbar": {
              "outlinewidth": 0,
              "ticks": ""
             }
            },
            "type": "scattergl"
           }
          ],
          "scattermapbox": [
           {
            "marker": {
             "colorbar": {
              "outlinewidth": 0,
              "ticks": ""
             }
            },
            "type": "scattermapbox"
           }
          ],
          "scatterpolar": [
           {
            "marker": {
             "colorbar": {
              "outlinewidth": 0,
              "ticks": ""
             }
            },
            "type": "scatterpolar"
           }
          ],
          "scatterpolargl": [
           {
            "marker": {
             "colorbar": {
              "outlinewidth": 0,
              "ticks": ""
             }
            },
            "type": "scatterpolargl"
           }
          ],
          "scatterternary": [
           {
            "marker": {
             "colorbar": {
              "outlinewidth": 0,
              "ticks": ""
             }
            },
            "type": "scatterternary"
           }
          ],
          "surface": [
           {
            "colorbar": {
             "outlinewidth": 0,
             "ticks": ""
            },
            "colorscale": [
             [
              0,
              "#0d0887"
             ],
             [
              0.1111111111111111,
              "#46039f"
             ],
             [
              0.2222222222222222,
              "#7201a8"
             ],
             [
              0.3333333333333333,
              "#9c179e"
             ],
             [
              0.4444444444444444,
              "#bd3786"
             ],
             [
              0.5555555555555556,
              "#d8576b"
             ],
             [
              0.6666666666666666,
              "#ed7953"
             ],
             [
              0.7777777777777778,
              "#fb9f3a"
             ],
             [
              0.8888888888888888,
              "#fdca26"
             ],
             [
              1,
              "#f0f921"
             ]
            ],
            "type": "surface"
           }
          ],
          "table": [
           {
            "cells": {
             "fill": {
              "color": "#EBF0F8"
             },
             "line": {
              "color": "white"
             }
            },
            "header": {
             "fill": {
              "color": "#C8D4E3"
             },
             "line": {
              "color": "white"
             }
            },
            "type": "table"
           }
          ]
         },
         "layout": {
          "annotationdefaults": {
           "arrowcolor": "#2a3f5f",
           "arrowhead": 0,
           "arrowwidth": 1
          },
          "autotypenumbers": "strict",
          "coloraxis": {
           "colorbar": {
            "outlinewidth": 0,
            "ticks": ""
           }
          },
          "colorscale": {
           "diverging": [
            [
             0,
             "#8e0152"
            ],
            [
             0.1,
             "#c51b7d"
            ],
            [
             0.2,
             "#de77ae"
            ],
            [
             0.3,
             "#f1b6da"
            ],
            [
             0.4,
             "#fde0ef"
            ],
            [
             0.5,
             "#f7f7f7"
            ],
            [
             0.6,
             "#e6f5d0"
            ],
            [
             0.7,
             "#b8e186"
            ],
            [
             0.8,
             "#7fbc41"
            ],
            [
             0.9,
             "#4d9221"
            ],
            [
             1,
             "#276419"
            ]
           ],
           "sequential": [
            [
             0,
             "#0d0887"
            ],
            [
             0.1111111111111111,
             "#46039f"
            ],
            [
             0.2222222222222222,
             "#7201a8"
            ],
            [
             0.3333333333333333,
             "#9c179e"
            ],
            [
             0.4444444444444444,
             "#bd3786"
            ],
            [
             0.5555555555555556,
             "#d8576b"
            ],
            [
             0.6666666666666666,
             "#ed7953"
            ],
            [
             0.7777777777777778,
             "#fb9f3a"
            ],
            [
             0.8888888888888888,
             "#fdca26"
            ],
            [
             1,
             "#f0f921"
            ]
           ],
           "sequentialminus": [
            [
             0,
             "#0d0887"
            ],
            [
             0.1111111111111111,
             "#46039f"
            ],
            [
             0.2222222222222222,
             "#7201a8"
            ],
            [
             0.3333333333333333,
             "#9c179e"
            ],
            [
             0.4444444444444444,
             "#bd3786"
            ],
            [
             0.5555555555555556,
             "#d8576b"
            ],
            [
             0.6666666666666666,
             "#ed7953"
            ],
            [
             0.7777777777777778,
             "#fb9f3a"
            ],
            [
             0.8888888888888888,
             "#fdca26"
            ],
            [
             1,
             "#f0f921"
            ]
           ]
          },
          "colorway": [
           "#636efa",
           "#EF553B",
           "#00cc96",
           "#ab63fa",
           "#FFA15A",
           "#19d3f3",
           "#FF6692",
           "#B6E880",
           "#FF97FF",
           "#FECB52"
          ],
          "font": {
           "color": "#2a3f5f"
          },
          "geo": {
           "bgcolor": "white",
           "lakecolor": "white",
           "landcolor": "#E5ECF6",
           "showlakes": true,
           "showland": true,
           "subunitcolor": "white"
          },
          "hoverlabel": {
           "align": "left"
          },
          "hovermode": "closest",
          "mapbox": {
           "style": "light"
          },
          "paper_bgcolor": "white",
          "plot_bgcolor": "#E5ECF6",
          "polar": {
           "angularaxis": {
            "gridcolor": "white",
            "linecolor": "white",
            "ticks": ""
           },
           "bgcolor": "#E5ECF6",
           "radialaxis": {
            "gridcolor": "white",
            "linecolor": "white",
            "ticks": ""
           }
          },
          "scene": {
           "xaxis": {
            "backgroundcolor": "#E5ECF6",
            "gridcolor": "white",
            "gridwidth": 2,
            "linecolor": "white",
            "showbackground": true,
            "ticks": "",
            "zerolinecolor": "white"
           },
           "yaxis": {
            "backgroundcolor": "#E5ECF6",
            "gridcolor": "white",
            "gridwidth": 2,
            "linecolor": "white",
            "showbackground": true,
            "ticks": "",
            "zerolinecolor": "white"
           },
           "zaxis": {
            "backgroundcolor": "#E5ECF6",
            "gridcolor": "white",
            "gridwidth": 2,
            "linecolor": "white",
            "showbackground": true,
            "ticks": "",
            "zerolinecolor": "white"
           }
          },
          "shapedefaults": {
           "line": {
            "color": "#2a3f5f"
           }
          },
          "ternary": {
           "aaxis": {
            "gridcolor": "white",
            "linecolor": "white",
            "ticks": ""
           },
           "baxis": {
            "gridcolor": "white",
            "linecolor": "white",
            "ticks": ""
           },
           "bgcolor": "#E5ECF6",
           "caxis": {
            "gridcolor": "white",
            "linecolor": "white",
            "ticks": ""
           }
          },
          "title": {
           "x": 0.05
          },
          "xaxis": {
           "automargin": true,
           "gridcolor": "white",
           "linecolor": "white",
           "ticks": "",
           "title": {
            "standoff": 15
           },
           "zerolinecolor": "white",
           "zerolinewidth": 2
          },
          "yaxis": {
           "automargin": true,
           "gridcolor": "white",
           "linecolor": "white",
           "ticks": "",
           "title": {
            "standoff": 15
           },
           "zerolinecolor": "white",
           "zerolinewidth": 2
          }
         }
        },
        "xaxis": {
         "anchor": "y",
         "autorange": true,
         "domain": [
          0,
          1
         ],
         "range": [
          -0.5,
          6.5
         ],
         "title": {
          "text": "age_range"
         },
         "type": "category"
        },
        "yaxis": {
         "anchor": "x",
         "autorange": true,
         "domain": [
          0,
          1
         ],
         "range": [
          0,
          83.15789473684211
         ],
         "title": {
          "text": "value"
         },
         "type": "linear"
        }
       }
      },
      "image/png": "[encoded data removed]",
      "text/html": [
       "<div>                            <div id=\"700dd809-c992-4516-bea6-60e0ea67d6a3\" class=\"plotly-graph-div\" style=\"height:525px; width:100%;\"></div>            <script type=\"text/javascript\">                require([\"plotly\"], function(Plotly) {                    window.PLOTLYENV=window.PLOTLYENV || {};                                    if (document.getElementById(\"700dd809-c992-4516-bea6-60e0ea67d6a3\")) {                    Plotly.newPlot(                        \"700dd809-c992-4516-bea6-60e0ea67d6a3\",                        [{\"alignmentgroup\":\"True\",\"hovertemplate\":\"variable=Democratic<br>age_range=%{x}<br>value=%{y}<extra></extra>\",\"legendgroup\":\"Democratic\",\"marker\":{\"color\":\"#636efa\",\"pattern\":{\"shape\":\"\"}},\"name\":\"Democratic\",\"offsetgroup\":\"Democratic\",\"orientation\":\"v\",\"showlegend\":true,\"textposition\":\"auto\",\"x\":[\"25-34\",\"35-44\",\"45-54\",\"55-64\",\"65-74\",\"75-84\",\"85+\"],\"xaxis\":\"x\",\"y\":[6,25,41,57,65,25,1],\"yaxis\":\"y\",\"type\":\"bar\"},{\"alignmentgroup\":\"True\",\"hovertemplate\":\"variable=Republican<br>age_range=%{x}<br>value=%{y}<extra></extra>\",\"legendgroup\":\"Republican\",\"marker\":{\"color\":\"#EF553B\",\"pattern\":{\"shape\":\"\"}},\"name\":\"Republican\",\"offsetgroup\":\"Republican\",\"orientation\":\"v\",\"showlegend\":true,\"textposition\":\"auto\",\"x\":[\"25-34\",\"35-44\",\"45-54\",\"55-64\",\"65-74\",\"75-84\",\"85+\"],\"xaxis\":\"x\",\"y\":[5,33,43,79,46,5,0],\"yaxis\":\"y\",\"type\":\"bar\"}],                        {\"template\":{\"data\":{\"histogram2dcontour\":[{\"type\":\"histogram2dcontour\",\"colorbar\":{\"outlinewidth\":0,\"ticks\":\"\"},\"colorscale\":[[0.0,\"#0d0887\"],[0.1111111111111111,\"#46039f\"],[0.2222222222222222,\"#7201a8\"],[0.3333333333333333,\"#9c179e\"],[0.4444444444444444,\"#bd3786\"],[0.5555555555555556,\"#d8576b\"],[0.6666666666666666,\"#ed7953\"],[0.7777777777777778,\"#fb9f3a\"],[0.8888888888888888,\"#fdca26\"],[1.0,\"#f0f921\"]]}],\"choropleth\":[{\"type\":\"choropleth\",\"colorbar\":{\"outlinewidth\":0,\"ticks\":\"\"}}],\"histogram2d\":[{\"type\":\"histogram2d\",\"colorbar\":{\"outlinewidth\":0,\"ticks\":\"\"},\"colorscale\":[[0.0,\"#0d0887\"],[0.1111111111111111,\"#46039f\"],[0.2222222222222222,\"#7201a8\"],[0.3333333333333333,\"#9c179e\"],[0.4444444444444444,\"#bd3786\"],[0.5555555555555556,\"#d8576b\"],[0.6666666666666666,\"#ed7953\"],[0.7777777777777778,\"#fb9f3a\"],[0.8888888888888888,\"#fdca26\"],[1.0,\"#f0f921\"]]}],\"heatmap\":[{\"type\":\"heatmap\",\"colorbar\":{\"outlinewidth\":0,\"ticks\":\"\"},\"colorscale\":[[0.0,\"#0d0887\"],[0.1111111111111111,\"#46039f\"],[0.2222222222222222,\"#7201a8\"],[0.3333333333333333,\"#9c179e\"],[0.4444444444444444,\"#bd3786\"],[0.5555555555555556,\"#d8576b\"],[0.6666666666666666,\"#ed7953\"],[0.7777777777777778,\"#fb9f3a\"],[0.8888888888888888,\"#fdca26\"],[1.0,\"#f0f921\"]]}],\"heatmapgl\":[{\"type\":\"heatmapgl\",\"colorbar\":{\"outlinewidth\":0,\"ticks\":\"\"},\"colorscale\":[[0.0,\"#0d0887\"],[0.1111111111111111,\"#46039f\"],[0.2222222222222222,\"#7201a8\"],[0.3333333333333333,\"#9c179e\"],[0.4444444444444444,\"#bd3786\"],[0.5555555555555556,\"#d8576b\"],[0.6666666666666666,\"#ed7953\"],[0.7777777777777778,\"#fb9f3a\"],[0.8888888888888888,\"#fdca26\"],[1.0,\"#f0f921\"]]}],\"contourcarpet\":[{\"type\":\"contourcarpet\",\"colorbar\":{\"outlinewidth\":0,\"ticks\":\"\"}}],\"contour\":[{\"type\":\"contour\",\"colorbar\":{\"outlinewidth\":0,\"ticks\":\"\"},\"colorscale\":[[0.0,\"#0d0887\"],[0.1111111111111111,\"#46039f\"],[0.2222222222222222,\"#7201a8\"],[0.3333333333333333,\"#9c179e\"],[0.4444444444444444,\"#bd3786\"],[0.5555555555555556,\"#d8576b\"],[0.6666666666666666,\"#ed7953\"],[0.7777777777777778,\"#fb9f3a\"],[0.8888888888888888,\"#fdca26\"],[1.0,\"#f0f921\"]]}],\"surface\":[{\"type\":\"surface\",\"colorbar\":{\"outlinewidth\":0,\"ticks\":\"\"},\"colorscale\":[[0.0,\"#0d0887\"],[0.1111111111111111,\"#46039f\"],[0.2222222222222222,\"#7201a8\"],[0.3333333333333333,\"#9c179e\"],[0.4444444444444444,\"#bd3786\"],[0.5555555555555556,\"#d8576b\"],[0.6666666666666666,\"#ed7953\"],[0.7777777777777778,\"#fb9f3a\"],[0.8888888888888888,\"#fdca26\"],[1.0,\"#f0f921\"]]}],\"mesh3d\":[{\"type\":\"mesh3d\",\"colorbar\":{\"outlinewidth\":0,\"ticks\":\"\"}}],\"scatter\":[{\"fillpattern\":{\"fillmode\":\"overlay\",\"size\":10,\"solidity\":0.2},\"type\":\"scatter\"}],\"parcoords\":[{\"type\":\"parcoords\",\"line\":{\"colorbar\":{\"outlinewidth\":0,\"ticks\":\"\"}}}],\"scatterpolargl\":[{\"type\":\"scatterpolargl\",\"marker\":{\"colorbar\":{\"outlinewidth\":0,\"ticks\":\"\"}}}],\"bar\":[{\"error_x\":{\"color\":\"#2a3f5f\"},\"error_y\":{\"color\":\"#2a3f5f\"},\"marker\":{\"line\":{\"color\":\"#E5ECF6\",\"width\":0.5},\"pattern\":{\"fillmode\":\"overlay\",\"size\":10,\"solidity\":0.2}},\"type\":\"bar\"}],\"scattergeo\":[{\"type\":\"scattergeo\",\"marker\":{\"colorbar\":{\"outlinewidth\":0,\"ticks\":\"\"}}}],\"scatterpolar\":[{\"type\":\"scatterpolar\",\"marker\":{\"colorbar\":{\"outlinewidth\":0,\"ticks\":\"\"}}}],\"histogram\":[{\"marker\":{\"pattern\":{\"fillmode\":\"overlay\",\"size\":10,\"solidity\":0.2}},\"type\":\"histogram\"}],\"scattergl\":[{\"type\":\"scattergl\",\"marker\":{\"colorbar\":{\"outlinewidth\":0,\"ticks\":\"\"}}}],\"scatter3d\":[{\"type\":\"scatter3d\",\"line\":{\"colorbar\":{\"outlinewidth\":0,\"ticks\":\"\"}},\"marker\":{\"colorbar\":{\"outlinewidth\":0,\"ticks\":\"\"}}}],\"scattermapbox\":[{\"type\":\"scattermapbox\",\"marker\":{\"colorbar\":{\"outlinewidth\":0,\"ticks\":\"\"}}}],\"scatterternary\":[{\"type\":\"scatterternary\",\"marker\":{\"colorbar\":{\"outlinewidth\":0,\"ticks\":\"\"}}}],\"scattercarpet\":[{\"type\":\"scattercarpet\",\"marker\":{\"colorbar\":{\"outlinewidth\":0,\"ticks\":\"\"}}}],\"carpet\":[{\"aaxis\":{\"endlinecolor\":\"#2a3f5f\",\"gridcolor\":\"white\",\"linecolor\":\"white\",\"minorgridcolor\":\"white\",\"startlinecolor\":\"#2a3f5f\"},\"baxis\":{\"endlinecolor\":\"#2a3f5f\",\"gridcolor\":\"white\",\"linecolor\":\"white\",\"minorgridcolor\":\"white\",\"startlinecolor\":\"#2a3f5f\"},\"type\":\"carpet\"}],\"table\":[{\"cells\":{\"fill\":{\"color\":\"#EBF0F8\"},\"line\":{\"color\":\"white\"}},\"header\":{\"fill\":{\"color\":\"#C8D4E3\"},\"line\":{\"color\":\"white\"}},\"type\":\"table\"}],\"barpolar\":[{\"marker\":{\"line\":{\"color\":\"#E5ECF6\",\"width\":0.5},\"pattern\":{\"fillmode\":\"overlay\",\"size\":10,\"solidity\":0.2}},\"type\":\"barpolar\"}],\"pie\":[{\"automargin\":true,\"type\":\"pie\"}]},\"layout\":{\"autotypenumbers\":\"strict\",\"colorway\":[\"#636efa\",\"#EF553B\",\"#00cc96\",\"#ab63fa\",\"#FFA15A\",\"#19d3f3\",\"#FF6692\",\"#B6E880\",\"#FF97FF\",\"#FECB52\"],\"font\":{\"color\":\"#2a3f5f\"},\"hovermode\":\"closest\",\"hoverlabel\":{\"align\":\"left\"},\"paper_bgcolor\":\"white\",\"plot_bgcolor\":\"#E5ECF6\",\"polar\":{\"bgcolor\":\"#E5ECF6\",\"angularaxis\":{\"gridcolor\":\"white\",\"linecolor\":\"white\",\"ticks\":\"\"},\"radialaxis\":{\"gridcolor\":\"white\",\"linecolor\":\"white\",\"ticks\":\"\"}},\"ternary\":{\"bgcolor\":\"#E5ECF6\",\"aaxis\":{\"gridcolor\":\"white\",\"linecolor\":\"white\",\"ticks\":\"\"},\"baxis\":{\"gridcolor\":\"white\",\"linecolor\":\"white\",\"ticks\":\"\"},\"caxis\":{\"gridcolor\":\"white\",\"linecolor\":\"white\",\"ticks\":\"\"}},\"coloraxis\":{\"colorbar\":{\"outlinewidth\":0,\"ticks\":\"\"}},\"colorscale\":{\"sequential\":[[0.0,\"#0d0887\"],[0.1111111111111111,\"#46039f\"],[0.2222222222222222,\"#7201a8\"],[0.3333333333333333,\"#9c179e\"],[0.4444444444444444,\"#bd3786\"],[0.5555555555555556,\"#d8576b\"],[0.6666666666666666,\"#ed7953\"],[0.7777777777777778,\"#fb9f3a\"],[0.8888888888888888,\"#fdca26\"],[1.0,\"#f0f921\"]],\"sequentialminus\":[[0.0,\"#0d0887\"],[0.1111111111111111,\"#46039f\"],[0.2222222222222222,\"#7201a8\"],[0.3333333333333333,\"#9c179e\"],[0.4444444444444444,\"#bd3786\"],[0.5555555555555556,\"#d8576b\"],[0.6666666666666666,\"#ed7953\"],[0.7777777777777778,\"#fb9f3a\"],[0.8888888888888888,\"#fdca26\"],[1.0,\"#f0f921\"]],\"diverging\":[[0,\"#8e0152\"],[0.1,\"#c51b7d\"],[0.2,\"#de77ae\"],[0.3,\"#f1b6da\"],[0.4,\"#fde0ef\"],[0.5,\"#f7f7f7\"],[0.6,\"#e6f5d0\"],[0.7,\"#b8e186\"],[0.8,\"#7fbc41\"],[0.9,\"#4d9221\"],[1,\"#276419\"]]},\"xaxis\":{\"gridcolor\":\"white\",\"linecolor\":\"white\",\"ticks\":\"\",\"title\":{\"standoff\":15},\"zerolinecolor\":\"white\",\"automargin\":true,\"zerolinewidth\":2},\"yaxis\":{\"gridcolor\":\"white\",\"linecolor\":\"white\",\"ticks\":\"\",\"title\":{\"standoff\":15},\"zerolinecolor\":\"white\",\"automargin\":true,\"zerolinewidth\":2},\"scene\":{\"xaxis\":{\"backgroundcolor\":\"#E5ECF6\",\"gridcolor\":\"white\",\"linecolor\":\"white\",\"showbackground\":true,\"ticks\":\"\",\"zerolinecolor\":\"white\",\"gridwidth\":2},\"yaxis\":{\"backgroundcolor\":\"#E5ECF6\",\"gridcolor\":\"white\",\"linecolor\":\"white\",\"showbackground\":true,\"ticks\":\"\",\"zerolinecolor\":\"white\",\"gridwidth\":2},\"zaxis\":{\"backgroundcolor\":\"#E5ECF6\",\"gridcolor\":\"white\",\"linecolor\":\"white\",\"showbackground\":true,\"ticks\":\"\",\"zerolinecolor\":\"white\",\"gridwidth\":2}},\"shapedefaults\":{\"line\":{\"color\":\"#2a3f5f\"}},\"annotationdefaults\":{\"arrowcolor\":\"#2a3f5f\",\"arrowhead\":0,\"arrowwidth\":1},\"geo\":{\"bgcolor\":\"white\",\"landcolor\":\"#E5ECF6\",\"subunitcolor\":\"white\",\"showland\":true,\"showlakes\":true,\"lakecolor\":\"white\"},\"title\":{\"x\":0.05},\"mapbox\":{\"style\":\"light\"}}},\"xaxis\":{\"anchor\":\"y\",\"domain\":[0.0,1.0],\"title\":{\"text\":\"age_range\"}},\"yaxis\":{\"anchor\":\"x\",\"domain\":[0.0,1.0],\"title\":{\"text\":\"value\"}},\"legend\":{\"title\":{\"text\":\"variable\"},\"tracegroupgap\":0},\"margin\":{\"t\":60},\"barmode\":\"group\"},                        {\"responsive\": true}                    ).then(function(){\n",
       "                            \n",
       "var gd = document.getElementById('700dd809-c992-4516-bea6-60e0ea67d6a3');\n",
       "var x = new MutationObserver(function (mutations, observer) {{\n",
       "        var display = window.getComputedStyle(gd).display;\n",
       "        if (!display || display === 'none') {{\n",
       "            console.log([gd, 'removed!']);\n",
       "            Plotly.purge(gd);\n",
       "            observer.disconnect();\n",
       "        }}\n",
       "}});\n",
       "\n",
       "// Listen for the removal of the full notebook cells\n",
       "var notebookContainer = gd.closest('#notebook-container');\n",
       "if (notebookContainer) {{\n",
       "    x.observe(notebookContainer, {childList: true});\n",
       "}}\n",
       "\n",
       "// Listen for the clearing of the current output cell\n",
       "var outputEl = gd.closest('.output');\n",
       "if (outputEl) {{\n",
       "    x.observe(outputEl, {childList: true});\n",
       "}}\n",
       "\n",
       "                        })                };                });            </script>        </div>"
      ]
     },
     "metadata": {},
     "output_type": "display_data"
    }
   ],
   "source": [
    "#Testing for app\n",
    "data2 = df.groupby(['age_range', 'party'])['name'].count()\n",
    "data2 = data2.unstack(level=-1)\n",
    "data2.reset_index(level=0, inplace=True)\n",
    "fig2 = px.bar(data2, x='age_range', y=['Democratic','Republican'],\n",
    "              barmode='group')\n",
    "fig2"
   ]
  },
  {
   "cell_type": "code",
   "execution_count": 111,
   "id": "8da7f566-0b24-4581-b890-19a3b4f150d8",
   "metadata": {},
   "outputs": [],
   "source": [
    "def make_figure(varname):\n",
    "    mycolorbartitle = \"117th US House Reps\"\n",
    "    mygraphtitle = f'Age Range of 117th US House Reps of {varname}'\n",
    "    #mycolorscale = 'Sunset' # Note: The error message will list possible color scales.\n",
    "    color_discrete_sequence = ['#3264A8','#A83232']\n",
    "    \n",
    "    data2 = df[df['clean_state']==varname].groupby(['age_range', 'party'])['name'].count()\n",
    "    data2 = data2.unstack(level=-1)\n",
    "    data2.reset_index(level=0, inplace=True)\n",
    "    fig2 = px.bar(data2, x='age_range', y=['Democratic','Republican'],\n",
    "              barmode='group',labels={'value':'number of reps','variable':'party'},color_discrete_sequence=color_discrete_sequence)\n",
    "    fig2.update_layout(\n",
    "        width=1200,\n",
    "        height=500,\n",
    "        paper_bgcolor='rgba(0,0,0,0)',\n",
    "        plot_bgcolor='rgba(0,0,0,0)'\n",
    "    )\n",
    "    return fig2"
   ]
  },
  {
   "cell_type": "code",
   "execution_count": 122,
   "id": "30a5fd74-c2d4-4176-82b2-e0426b612cd5",
   "metadata": {},
   "outputs": [
    {
     "data": {
      "application/vnd.plotly.v1+json": {
       "config": {
        "plotlyServerURL": "https://plot.ly"
       },
       "data": [
        {
         "alignmentgroup": "True",
         "hovertemplate": "party=Democratic<br>age_range=%{x}<br>number of reps=%{y}<extra></extra>",
         "legendgroup": "Democratic",
         "marker": {
          "color": "#3264A8",
          "pattern": {
           "shape": ""
          }
         },
         "name": "Democratic",
         "offsetgroup": "Democratic",
         "orientation": "v",
         "showlegend": true,
         "textposition": "auto",
         "type": "bar",
         "x": [
          "25-34",
          "35-44",
          "45-54",
          "55-64",
          "65-74",
          "75-84",
          "85+"
         ],
         "xaxis": "x",
         "y": [
          1,
          6,
          6,
          10,
          10,
          9,
          0
         ],
         "yaxis": "y"
        },
        {
         "alignmentgroup": "True",
         "hovertemplate": "party=Republican<br>age_range=%{x}<br>number of reps=%{y}<extra></extra>",
         "legendgroup": "Republican",
         "marker": {
          "color": "#A83232",
          "pattern": {
           "shape": ""
          }
         },
         "name": "Republican",
         "offsetgroup": "Republican",
         "orientation": "v",
         "showlegend": true,
         "textposition": "auto",
         "type": "bar",
         "x": [
          "25-34",
          "35-44",
          "45-54",
          "55-64",
          "65-74",
          "75-84",
          "85+"
         ],
         "xaxis": "x",
         "y": [
          0,
          1,
          2,
          3,
          5,
          0,
          0
         ],
         "yaxis": "y"
        }
       ],
       "layout": {
        "barmode": "group",
        "height": 500,
        "legend": {
         "title": {
          "text": "party"
         },
         "tracegroupgap": 0
        },
        "margin": {
         "t": 60
        },
        "paper_bgcolor": "rgba(0, 0, 0, 0)",
        "plot_bgcolor": "rgba(0, 0, 0, 0)",
        "template": {
         "data": {
          "bar": [
           {
            "error_x": {
             "color": "#2a3f5f"
            },
            "error_y": {
             "color": "#2a3f5f"
            },
            "marker": {
             "line": {
              "color": "#E5ECF6",
              "width": 0.5
             },
             "pattern": {
              "fillmode": "overlay",
              "size": 10,
              "solidity": 0.2
             }
            },
            "type": "bar"
           }
          ],
          "barpolar": [
           {
            "marker": {
             "line": {
              "color": "#E5ECF6",
              "width": 0.5
             },
             "pattern": {
              "fillmode": "overlay",
              "size": 10,
              "solidity": 0.2
             }
            },
            "type": "barpolar"
           }
          ],
          "carpet": [
           {
            "aaxis": {
             "endlinecolor": "#2a3f5f",
             "gridcolor": "white",
             "linecolor": "white",
             "minorgridcolor": "white",
             "startlinecolor": "#2a3f5f"
            },
            "baxis": {
             "endlinecolor": "#2a3f5f",
             "gridcolor": "white",
             "linecolor": "white",
             "minorgridcolor": "white",
             "startlinecolor": "#2a3f5f"
            },
            "type": "carpet"
           }
          ],
          "choropleth": [
           {
            "colorbar": {
             "outlinewidth": 0,
             "ticks": ""
            },
            "type": "choropleth"
           }
          ],
          "contour": [
           {
            "colorbar": {
             "outlinewidth": 0,
             "ticks": ""
            },
            "colorscale": [
             [
              0,
              "#0d0887"
             ],
             [
              0.1111111111111111,
              "#46039f"
             ],
             [
              0.2222222222222222,
              "#7201a8"
             ],
             [
              0.3333333333333333,
              "#9c179e"
             ],
             [
              0.4444444444444444,
              "#bd3786"
             ],
             [
              0.5555555555555556,
              "#d8576b"
             ],
             [
              0.6666666666666666,
              "#ed7953"
             ],
             [
              0.7777777777777778,
              "#fb9f3a"
             ],
             [
              0.8888888888888888,
              "#fdca26"
             ],
             [
              1,
              "#f0f921"
             ]
            ],
            "type": "contour"
           }
          ],
          "contourcarpet": [
           {
            "colorbar": {
             "outlinewidth": 0,
             "ticks": ""
            },
            "type": "contourcarpet"
           }
          ],
          "heatmap": [
           {
            "colorbar": {
             "outlinewidth": 0,
             "ticks": ""
            },
            "colorscale": [
             [
              0,
              "#0d0887"
             ],
             [
              0.1111111111111111,
              "#46039f"
             ],
             [
              0.2222222222222222,
              "#7201a8"
             ],
             [
              0.3333333333333333,
              "#9c179e"
             ],
             [
              0.4444444444444444,
              "#bd3786"
             ],
             [
              0.5555555555555556,
              "#d8576b"
             ],
             [
              0.6666666666666666,
              "#ed7953"
             ],
             [
              0.7777777777777778,
              "#fb9f3a"
             ],
             [
              0.8888888888888888,
              "#fdca26"
             ],
             [
              1,
              "#f0f921"
             ]
            ],
            "type": "heatmap"
           }
          ],
          "heatmapgl": [
           {
            "colorbar": {
             "outlinewidth": 0,
             "ticks": ""
            },
            "colorscale": [
             [
              0,
              "#0d0887"
             ],
             [
              0.1111111111111111,
              "#46039f"
             ],
             [
              0.2222222222222222,
              "#7201a8"
             ],
             [
              0.3333333333333333,
              "#9c179e"
             ],
             [
              0.4444444444444444,
              "#bd3786"
             ],
             [
              0.5555555555555556,
              "#d8576b"
             ],
             [
              0.6666666666666666,
              "#ed7953"
             ],
             [
              0.7777777777777778,
              "#fb9f3a"
             ],
             [
              0.8888888888888888,
              "#fdca26"
             ],
             [
              1,
              "#f0f921"
             ]
            ],
            "type": "heatmapgl"
           }
          ],
          "histogram": [
           {
            "marker": {
             "pattern": {
              "fillmode": "overlay",
              "size": 10,
              "solidity": 0.2
             }
            },
            "type": "histogram"
           }
          ],
          "histogram2d": [
           {
            "colorbar": {
             "outlinewidth": 0,
             "ticks": ""
            },
            "colorscale": [
             [
              0,
              "#0d0887"
             ],
             [
              0.1111111111111111,
              "#46039f"
             ],
             [
              0.2222222222222222,
              "#7201a8"
             ],
             [
              0.3333333333333333,
              "#9c179e"
             ],
             [
              0.4444444444444444,
              "#bd3786"
             ],
             [
              0.5555555555555556,
              "#d8576b"
             ],
             [
              0.6666666666666666,
              "#ed7953"
             ],
             [
              0.7777777777777778,
              "#fb9f3a"
             ],
             [
              0.8888888888888888,
              "#fdca26"
             ],
             [
              1,
              "#f0f921"
             ]
            ],
            "type": "histogram2d"
           }
          ],
          "histogram2dcontour": [
           {
            "colorbar": {
             "outlinewidth": 0,
             "ticks": ""
            },
            "colorscale": [
             [
              0,
              "#0d0887"
             ],
             [
              0.1111111111111111,
              "#46039f"
             ],
             [
              0.2222222222222222,
              "#7201a8"
             ],
             [
              0.3333333333333333,
              "#9c179e"
             ],
             [
              0.4444444444444444,
              "#bd3786"
             ],
             [
              0.5555555555555556,
              "#d8576b"
             ],
             [
              0.6666666666666666,
              "#ed7953"
             ],
             [
              0.7777777777777778,
              "#fb9f3a"
             ],
             [
              0.8888888888888888,
              "#fdca26"
             ],
             [
              1,
              "#f0f921"
             ]
            ],
            "type": "histogram2dcontour"
           }
          ],
          "mesh3d": [
           {
            "colorbar": {
             "outlinewidth": 0,
             "ticks": ""
            },
            "type": "mesh3d"
           }
          ],
          "parcoords": [
           {
            "line": {
             "colorbar": {
              "outlinewidth": 0,
              "ticks": ""
             }
            },
            "type": "parcoords"
           }
          ],
          "pie": [
           {
            "automargin": true,
            "type": "pie"
           }
          ],
          "scatter": [
           {
            "fillpattern": {
             "fillmode": "overlay",
             "size": 10,
             "solidity": 0.2
            },
            "type": "scatter"
           }
          ],
          "scatter3d": [
           {
            "line": {
             "colorbar": {
              "outlinewidth": 0,
              "ticks": ""
             }
            },
            "marker": {
             "colorbar": {
              "outlinewidth": 0,
              "ticks": ""
             }
            },
            "type": "scatter3d"
           }
          ],
          "scattercarpet": [
           {
            "marker": {
             "colorbar": {
              "outlinewidth": 0,
              "ticks": ""
             }
            },
            "type": "scattercarpet"
           }
          ],
          "scattergeo": [
           {
            "marker": {
             "colorbar": {
              "outlinewidth": 0,
              "ticks": ""
             }
            },
            "type": "scattergeo"
           }
          ],
          "scattergl": [
           {
            "marker": {
             "colorbar": {
              "outlinewidth": 0,
              "ticks": ""
             }
            },
            "type": "scattergl"
           }
          ],
          "scattermapbox": [
           {
            "marker": {
             "colorbar": {
              "outlinewidth": 0,
              "ticks": ""
             }
            },
            "type": "scattermapbox"
           }
          ],
          "scatterpolar": [
           {
            "marker": {
             "colorbar": {
              "outlinewidth": 0,
              "ticks": ""
             }
            },
            "type": "scatterpolar"
           }
          ],
          "scatterpolargl": [
           {
            "marker": {
             "colorbar": {
              "outlinewidth": 0,
              "ticks": ""
             }
            },
            "type": "scatterpolargl"
           }
          ],
          "scatterternary": [
           {
            "marker": {
             "colorbar": {
              "outlinewidth": 0,
              "ticks": ""
             }
            },
            "type": "scatterternary"
           }
          ],
          "surface": [
           {
            "colorbar": {
             "outlinewidth": 0,
             "ticks": ""
            },
            "colorscale": [
             [
              0,
              "#0d0887"
             ],
             [
              0.1111111111111111,
              "#46039f"
             ],
             [
              0.2222222222222222,
              "#7201a8"
             ],
             [
              0.3333333333333333,
              "#9c179e"
             ],
             [
              0.4444444444444444,
              "#bd3786"
             ],
             [
              0.5555555555555556,
              "#d8576b"
             ],
             [
              0.6666666666666666,
              "#ed7953"
             ],
             [
              0.7777777777777778,
              "#fb9f3a"
             ],
             [
              0.8888888888888888,
              "#fdca26"
             ],
             [
              1,
              "#f0f921"
             ]
            ],
            "type": "surface"
           }
          ],
          "table": [
           {
            "cells": {
             "fill": {
              "color": "#EBF0F8"
             },
             "line": {
              "color": "white"
             }
            },
            "header": {
             "fill": {
              "color": "#C8D4E3"
             },
             "line": {
              "color": "white"
             }
            },
            "type": "table"
           }
          ]
         },
         "layout": {
          "annotationdefaults": {
           "arrowcolor": "#2a3f5f",
           "arrowhead": 0,
           "arrowwidth": 1
          },
          "autotypenumbers": "strict",
          "coloraxis": {
           "colorbar": {
            "outlinewidth": 0,
            "ticks": ""
           }
          },
          "colorscale": {
           "diverging": [
            [
             0,
             "#8e0152"
            ],
            [
             0.1,
             "#c51b7d"
            ],
            [
             0.2,
             "#de77ae"
            ],
            [
             0.3,
             "#f1b6da"
            ],
            [
             0.4,
             "#fde0ef"
            ],
            [
             0.5,
             "#f7f7f7"
            ],
            [
             0.6,
             "#e6f5d0"
            ],
            [
             0.7,
             "#b8e186"
            ],
            [
             0.8,
             "#7fbc41"
            ],
            [
             0.9,
             "#4d9221"
            ],
            [
             1,
             "#276419"
            ]
           ],
           "sequential": [
            [
             0,
             "#0d0887"
            ],
            [
             0.1111111111111111,
             "#46039f"
            ],
            [
             0.2222222222222222,
             "#7201a8"
            ],
            [
             0.3333333333333333,
             "#9c179e"
            ],
            [
             0.4444444444444444,
             "#bd3786"
            ],
            [
             0.5555555555555556,
             "#d8576b"
            ],
            [
             0.6666666666666666,
             "#ed7953"
            ],
            [
             0.7777777777777778,
             "#fb9f3a"
            ],
            [
             0.8888888888888888,
             "#fdca26"
            ],
            [
             1,
             "#f0f921"
            ]
           ],
           "sequentialminus": [
            [
             0,
             "#0d0887"
            ],
            [
             0.1111111111111111,
             "#46039f"
            ],
            [
             0.2222222222222222,
             "#7201a8"
            ],
            [
             0.3333333333333333,
             "#9c179e"
            ],
            [
             0.4444444444444444,
             "#bd3786"
            ],
            [
             0.5555555555555556,
             "#d8576b"
            ],
            [
             0.6666666666666666,
             "#ed7953"
            ],
            [
             0.7777777777777778,
             "#fb9f3a"
            ],
            [
             0.8888888888888888,
             "#fdca26"
            ],
            [
             1,
             "#f0f921"
            ]
           ]
          },
          "colorway": [
           "#636efa",
           "#EF553B",
           "#00cc96",
           "#ab63fa",
           "#FFA15A",
           "#19d3f3",
           "#FF6692",
           "#B6E880",
           "#FF97FF",
           "#FECB52"
          ],
          "font": {
           "color": "#2a3f5f"
          },
          "geo": {
           "bgcolor": "white",
           "lakecolor": "white",
           "landcolor": "#E5ECF6",
           "showlakes": true,
           "showland": true,
           "subunitcolor": "white"
          },
          "hoverlabel": {
           "align": "left"
          },
          "hovermode": "closest",
          "mapbox": {
           "style": "light"
          },
          "paper_bgcolor": "white",
          "plot_bgcolor": "#E5ECF6",
          "polar": {
           "angularaxis": {
            "gridcolor": "white",
            "linecolor": "white",
            "ticks": ""
           },
           "bgcolor": "#E5ECF6",
           "radialaxis": {
            "gridcolor": "white",
            "linecolor": "white",
            "ticks": ""
           }
          },
          "scene": {
           "xaxis": {
            "backgroundcolor": "#E5ECF6",
            "gridcolor": "white",
            "gridwidth": 2,
            "linecolor": "white",
            "showbackground": true,
            "ticks": "",
            "zerolinecolor": "white"
           },
           "yaxis": {
            "backgroundcolor": "#E5ECF6",
            "gridcolor": "white",
            "gridwidth": 2,
            "linecolor": "white",
            "showbackground": true,
            "ticks": "",
            "zerolinecolor": "white"
           },
           "zaxis": {
            "backgroundcolor": "#E5ECF6",
            "gridcolor": "white",
            "gridwidth": 2,
            "linecolor": "white",
            "showbackground": true,
            "ticks": "",
            "zerolinecolor": "white"
           }
          },
          "shapedefaults": {
           "line": {
            "color": "#2a3f5f"
           }
          },
          "ternary": {
           "aaxis": {
            "gridcolor": "white",
            "linecolor": "white",
            "ticks": ""
           },
           "baxis": {
            "gridcolor": "white",
            "linecolor": "white",
            "ticks": ""
           },
           "bgcolor": "#E5ECF6",
           "caxis": {
            "gridcolor": "white",
            "linecolor": "white",
            "ticks": ""
           }
          },
          "title": {
           "x": 0.05
          },
          "xaxis": {
           "automargin": true,
           "gridcolor": "white",
           "linecolor": "white",
           "ticks": "",
           "title": {
            "standoff": 15
           },
           "zerolinecolor": "white",
           "zerolinewidth": 2
          },
          "yaxis": {
           "automargin": true,
           "gridcolor": "white",
           "linecolor": "white",
           "ticks": "",
           "title": {
            "standoff": 15
           },
           "zerolinecolor": "white",
           "zerolinewidth": 2
          }
         }
        },
        "width": 1200,
        "xaxis": {
         "anchor": "y",
         "autorange": true,
         "domain": [
          0,
          1
         ],
         "range": [
          -0.5,
          6.5
         ],
         "title": {
          "text": "age_range"
         },
         "type": "category"
        },
        "yaxis": {
         "anchor": "x",
         "autorange": true,
         "domain": [
          0,
          1
         ],
         "range": [
          0,
          10.526315789473685
         ],
         "title": {
          "text": "number of reps"
         },
         "type": "linear"
        }
       }
      },
      "image/png": "[encoded data removed]",
      "text/html": [
       "<div>                            <div id=\"909e1a62-8d2f-475d-8fd6-f0f174c8d866\" class=\"plotly-graph-div\" style=\"height:500px; width:1200px;\"></div>            <script type=\"text/javascript\">                require([\"plotly\"], function(Plotly) {                    window.PLOTLYENV=window.PLOTLYENV || {};                                    if (document.getElementById(\"909e1a62-8d2f-475d-8fd6-f0f174c8d866\")) {                    Plotly.newPlot(                        \"909e1a62-8d2f-475d-8fd6-f0f174c8d866\",                        [{\"alignmentgroup\":\"True\",\"hovertemplate\":\"party=Democratic<br>age_range=%{x}<br>number of reps=%{y}<extra></extra>\",\"legendgroup\":\"Democratic\",\"marker\":{\"color\":\"#3264A8\",\"pattern\":{\"shape\":\"\"}},\"name\":\"Democratic\",\"offsetgroup\":\"Democratic\",\"orientation\":\"v\",\"showlegend\":true,\"textposition\":\"auto\",\"x\":[\"25-34\",\"35-44\",\"45-54\",\"55-64\",\"65-74\",\"75-84\",\"85+\"],\"xaxis\":\"x\",\"y\":[1,6,6,10,10,9,0],\"yaxis\":\"y\",\"type\":\"bar\"},{\"alignmentgroup\":\"True\",\"hovertemplate\":\"party=Republican<br>age_range=%{x}<br>number of reps=%{y}<extra></extra>\",\"legendgroup\":\"Republican\",\"marker\":{\"color\":\"#A83232\",\"pattern\":{\"shape\":\"\"}},\"name\":\"Republican\",\"offsetgroup\":\"Republican\",\"orientation\":\"v\",\"showlegend\":true,\"textposition\":\"auto\",\"x\":[\"25-34\",\"35-44\",\"45-54\",\"55-64\",\"65-74\",\"75-84\",\"85+\"],\"xaxis\":\"x\",\"y\":[0,1,2,3,5,0,0],\"yaxis\":\"y\",\"type\":\"bar\"}],                        {\"template\":{\"data\":{\"histogram2dcontour\":[{\"type\":\"histogram2dcontour\",\"colorbar\":{\"outlinewidth\":0,\"ticks\":\"\"},\"colorscale\":[[0.0,\"#0d0887\"],[0.1111111111111111,\"#46039f\"],[0.2222222222222222,\"#7201a8\"],[0.3333333333333333,\"#9c179e\"],[0.4444444444444444,\"#bd3786\"],[0.5555555555555556,\"#d8576b\"],[0.6666666666666666,\"#ed7953\"],[0.7777777777777778,\"#fb9f3a\"],[0.8888888888888888,\"#fdca26\"],[1.0,\"#f0f921\"]]}],\"choropleth\":[{\"type\":\"choropleth\",\"colorbar\":{\"outlinewidth\":0,\"ticks\":\"\"}}],\"histogram2d\":[{\"type\":\"histogram2d\",\"colorbar\":{\"outlinewidth\":0,\"ticks\":\"\"},\"colorscale\":[[0.0,\"#0d0887\"],[0.1111111111111111,\"#46039f\"],[0.2222222222222222,\"#7201a8\"],[0.3333333333333333,\"#9c179e\"],[0.4444444444444444,\"#bd3786\"],[0.5555555555555556,\"#d8576b\"],[0.6666666666666666,\"#ed7953\"],[0.7777777777777778,\"#fb9f3a\"],[0.8888888888888888,\"#fdca26\"],[1.0,\"#f0f921\"]]}],\"heatmap\":[{\"type\":\"heatmap\",\"colorbar\":{\"outlinewidth\":0,\"ticks\":\"\"},\"colorscale\":[[0.0,\"#0d0887\"],[0.1111111111111111,\"#46039f\"],[0.2222222222222222,\"#7201a8\"],[0.3333333333333333,\"#9c179e\"],[0.4444444444444444,\"#bd3786\"],[0.5555555555555556,\"#d8576b\"],[0.6666666666666666,\"#ed7953\"],[0.7777777777777778,\"#fb9f3a\"],[0.8888888888888888,\"#fdca26\"],[1.0,\"#f0f921\"]]}],\"heatmapgl\":[{\"type\":\"heatmapgl\",\"colorbar\":{\"outlinewidth\":0,\"ticks\":\"\"},\"colorscale\":[[0.0,\"#0d0887\"],[0.1111111111111111,\"#46039f\"],[0.2222222222222222,\"#7201a8\"],[0.3333333333333333,\"#9c179e\"],[0.4444444444444444,\"#bd3786\"],[0.5555555555555556,\"#d8576b\"],[0.6666666666666666,\"#ed7953\"],[0.7777777777777778,\"#fb9f3a\"],[0.8888888888888888,\"#fdca26\"],[1.0,\"#f0f921\"]]}],\"contourcarpet\":[{\"type\":\"contourcarpet\",\"colorbar\":{\"outlinewidth\":0,\"ticks\":\"\"}}],\"contour\":[{\"type\":\"contour\",\"colorbar\":{\"outlinewidth\":0,\"ticks\":\"\"},\"colorscale\":[[0.0,\"#0d0887\"],[0.1111111111111111,\"#46039f\"],[0.2222222222222222,\"#7201a8\"],[0.3333333333333333,\"#9c179e\"],[0.4444444444444444,\"#bd3786\"],[0.5555555555555556,\"#d8576b\"],[0.6666666666666666,\"#ed7953\"],[0.7777777777777778,\"#fb9f3a\"],[0.8888888888888888,\"#fdca26\"],[1.0,\"#f0f921\"]]}],\"surface\":[{\"type\":\"surface\",\"colorbar\":{\"outlinewidth\":0,\"ticks\":\"\"},\"colorscale\":[[0.0,\"#0d0887\"],[0.1111111111111111,\"#46039f\"],[0.2222222222222222,\"#7201a8\"],[0.3333333333333333,\"#9c179e\"],[0.4444444444444444,\"#bd3786\"],[0.5555555555555556,\"#d8576b\"],[0.6666666666666666,\"#ed7953\"],[0.7777777777777778,\"#fb9f3a\"],[0.8888888888888888,\"#fdca26\"],[1.0,\"#f0f921\"]]}],\"mesh3d\":[{\"type\":\"mesh3d\",\"colorbar\":{\"outlinewidth\":0,\"ticks\":\"\"}}],\"scatter\":[{\"fillpattern\":{\"fillmode\":\"overlay\",\"size\":10,\"solidity\":0.2},\"type\":\"scatter\"}],\"parcoords\":[{\"type\":\"parcoords\",\"line\":{\"colorbar\":{\"outlinewidth\":0,\"ticks\":\"\"}}}],\"scatterpolargl\":[{\"type\":\"scatterpolargl\",\"marker\":{\"colorbar\":{\"outlinewidth\":0,\"ticks\":\"\"}}}],\"bar\":[{\"error_x\":{\"color\":\"#2a3f5f\"},\"error_y\":{\"color\":\"#2a3f5f\"},\"marker\":{\"line\":{\"color\":\"#E5ECF6\",\"width\":0.5},\"pattern\":{\"fillmode\":\"overlay\",\"size\":10,\"solidity\":0.2}},\"type\":\"bar\"}],\"scattergeo\":[{\"type\":\"scattergeo\",\"marker\":{\"colorbar\":{\"outlinewidth\":0,\"ticks\":\"\"}}}],\"scatterpolar\":[{\"type\":\"scatterpolar\",\"marker\":{\"colorbar\":{\"outlinewidth\":0,\"ticks\":\"\"}}}],\"histogram\":[{\"marker\":{\"pattern\":{\"fillmode\":\"overlay\",\"size\":10,\"solidity\":0.2}},\"type\":\"histogram\"}],\"scattergl\":[{\"type\":\"scattergl\",\"marker\":{\"colorbar\":{\"outlinewidth\":0,\"ticks\":\"\"}}}],\"scatter3d\":[{\"type\":\"scatter3d\",\"line\":{\"colorbar\":{\"outlinewidth\":0,\"ticks\":\"\"}},\"marker\":{\"colorbar\":{\"outlinewidth\":0,\"ticks\":\"\"}}}],\"scattermapbox\":[{\"type\":\"scattermapbox\",\"marker\":{\"colorbar\":{\"outlinewidth\":0,\"ticks\":\"\"}}}],\"scatterternary\":[{\"type\":\"scatterternary\",\"marker\":{\"colorbar\":{\"outlinewidth\":0,\"ticks\":\"\"}}}],\"scattercarpet\":[{\"type\":\"scattercarpet\",\"marker\":{\"colorbar\":{\"outlinewidth\":0,\"ticks\":\"\"}}}],\"carpet\":[{\"aaxis\":{\"endlinecolor\":\"#2a3f5f\",\"gridcolor\":\"white\",\"linecolor\":\"white\",\"minorgridcolor\":\"white\",\"startlinecolor\":\"#2a3f5f\"},\"baxis\":{\"endlinecolor\":\"#2a3f5f\",\"gridcolor\":\"white\",\"linecolor\":\"white\",\"minorgridcolor\":\"white\",\"startlinecolor\":\"#2a3f5f\"},\"type\":\"carpet\"}],\"table\":[{\"cells\":{\"fill\":{\"color\":\"#EBF0F8\"},\"line\":{\"color\":\"white\"}},\"header\":{\"fill\":{\"color\":\"#C8D4E3\"},\"line\":{\"color\":\"white\"}},\"type\":\"table\"}],\"barpolar\":[{\"marker\":{\"line\":{\"color\":\"#E5ECF6\",\"width\":0.5},\"pattern\":{\"fillmode\":\"overlay\",\"size\":10,\"solidity\":0.2}},\"type\":\"barpolar\"}],\"pie\":[{\"automargin\":true,\"type\":\"pie\"}]},\"layout\":{\"autotypenumbers\":\"strict\",\"colorway\":[\"#636efa\",\"#EF553B\",\"#00cc96\",\"#ab63fa\",\"#FFA15A\",\"#19d3f3\",\"#FF6692\",\"#B6E880\",\"#FF97FF\",\"#FECB52\"],\"font\":{\"color\":\"#2a3f5f\"},\"hovermode\":\"closest\",\"hoverlabel\":{\"align\":\"left\"},\"paper_bgcolor\":\"white\",\"plot_bgcolor\":\"#E5ECF6\",\"polar\":{\"bgcolor\":\"#E5ECF6\",\"angularaxis\":{\"gridcolor\":\"white\",\"linecolor\":\"white\",\"ticks\":\"\"},\"radialaxis\":{\"gridcolor\":\"white\",\"linecolor\":\"white\",\"ticks\":\"\"}},\"ternary\":{\"bgcolor\":\"#E5ECF6\",\"aaxis\":{\"gridcolor\":\"white\",\"linecolor\":\"white\",\"ticks\":\"\"},\"baxis\":{\"gridcolor\":\"white\",\"linecolor\":\"white\",\"ticks\":\"\"},\"caxis\":{\"gridcolor\":\"white\",\"linecolor\":\"white\",\"ticks\":\"\"}},\"coloraxis\":{\"colorbar\":{\"outlinewidth\":0,\"ticks\":\"\"}},\"colorscale\":{\"sequential\":[[0.0,\"#0d0887\"],[0.1111111111111111,\"#46039f\"],[0.2222222222222222,\"#7201a8\"],[0.3333333333333333,\"#9c179e\"],[0.4444444444444444,\"#bd3786\"],[0.5555555555555556,\"#d8576b\"],[0.6666666666666666,\"#ed7953\"],[0.7777777777777778,\"#fb9f3a\"],[0.8888888888888888,\"#fdca26\"],[1.0,\"#f0f921\"]],\"sequentialminus\":[[0.0,\"#0d0887\"],[0.1111111111111111,\"#46039f\"],[0.2222222222222222,\"#7201a8\"],[0.3333333333333333,\"#9c179e\"],[0.4444444444444444,\"#bd3786\"],[0.5555555555555556,\"#d8576b\"],[0.6666666666666666,\"#ed7953\"],[0.7777777777777778,\"#fb9f3a\"],[0.8888888888888888,\"#fdca26\"],[1.0,\"#f0f921\"]],\"diverging\":[[0,\"#8e0152\"],[0.1,\"#c51b7d\"],[0.2,\"#de77ae\"],[0.3,\"#f1b6da\"],[0.4,\"#fde0ef\"],[0.5,\"#f7f7f7\"],[0.6,\"#e6f5d0\"],[0.7,\"#b8e186\"],[0.8,\"#7fbc41\"],[0.9,\"#4d9221\"],[1,\"#276419\"]]},\"xaxis\":{\"gridcolor\":\"white\",\"linecolor\":\"white\",\"ticks\":\"\",\"title\":{\"standoff\":15},\"zerolinecolor\":\"white\",\"automargin\":true,\"zerolinewidth\":2},\"yaxis\":{\"gridcolor\":\"white\",\"linecolor\":\"white\",\"ticks\":\"\",\"title\":{\"standoff\":15},\"zerolinecolor\":\"white\",\"automargin\":true,\"zerolinewidth\":2},\"scene\":{\"xaxis\":{\"backgroundcolor\":\"#E5ECF6\",\"gridcolor\":\"white\",\"linecolor\":\"white\",\"showbackground\":true,\"ticks\":\"\",\"zerolinecolor\":\"white\",\"gridwidth\":2},\"yaxis\":{\"backgroundcolor\":\"#E5ECF6\",\"gridcolor\":\"white\",\"linecolor\":\"white\",\"showbackground\":true,\"ticks\":\"\",\"zerolinecolor\":\"white\",\"gridwidth\":2},\"zaxis\":{\"backgroundcolor\":\"#E5ECF6\",\"gridcolor\":\"white\",\"linecolor\":\"white\",\"showbackground\":true,\"ticks\":\"\",\"zerolinecolor\":\"white\",\"gridwidth\":2}},\"shapedefaults\":{\"line\":{\"color\":\"#2a3f5f\"}},\"annotationdefaults\":{\"arrowcolor\":\"#2a3f5f\",\"arrowhead\":0,\"arrowwidth\":1},\"geo\":{\"bgcolor\":\"white\",\"landcolor\":\"#E5ECF6\",\"subunitcolor\":\"white\",\"showland\":true,\"showlakes\":true,\"lakecolor\":\"white\"},\"title\":{\"x\":0.05},\"mapbox\":{\"style\":\"light\"}}},\"xaxis\":{\"anchor\":\"y\",\"domain\":[0.0,1.0],\"title\":{\"text\":\"age_range\"}},\"yaxis\":{\"anchor\":\"x\",\"domain\":[0.0,1.0],\"title\":{\"text\":\"number of reps\"}},\"legend\":{\"title\":{\"text\":\"party\"},\"tracegroupgap\":0},\"margin\":{\"t\":60},\"barmode\":\"group\",\"width\":1200,\"height\":500,\"paper_bgcolor\":\"rgba(0,0,0,0)\",\"plot_bgcolor\":\"rgba(0,0,0,0)\"},                        {\"responsive\": true}                    ).then(function(){\n",
       "                            \n",
       "var gd = document.getElementById('909e1a62-8d2f-475d-8fd6-f0f174c8d866');\n",
       "var x = new MutationObserver(function (mutations, observer) {{\n",
       "        var display = window.getComputedStyle(gd).display;\n",
       "        if (!display || display === 'none') {{\n",
       "            console.log([gd, 'removed!']);\n",
       "            Plotly.purge(gd);\n",
       "            observer.disconnect();\n",
       "        }}\n",
       "}});\n",
       "\n",
       "// Listen for the removal of the full notebook cells\n",
       "var notebookContainer = gd.closest('#notebook-container');\n",
       "if (notebookContainer) {{\n",
       "    x.observe(notebookContainer, {childList: true});\n",
       "}}\n",
       "\n",
       "// Listen for the clearing of the current output cell\n",
       "var outputEl = gd.closest('.output');\n",
       "if (outputEl) {{\n",
       "    x.observe(outputEl, {childList: true});\n",
       "}}\n",
       "\n",
       "                        })                };                });            </script>        </div>"
      ]
     },
     "metadata": {},
     "output_type": "display_data"
    }
   ],
   "source": [
    "make_figure('California')"
   ]
  }
 ],
 "metadata": {
  "kernelspec": {
   "display_name": "default:Python",
   "language": "python",
   "name": "conda-env-default-py"
  },
  "language_info": {
   "codemirror_mode": {
    "name": "ipython",
    "version": 3
   },
   "file_extension": ".py",
   "mimetype": "text/x-python",
   "name": "python",
   "nbconvert_exporter": "python",
   "pygments_lexer": "ipython3",
   "version": "3.9.13"
  }
 },
 "nbformat": 4,
 "nbformat_minor": 5
}
